{
 "cells": [
  {
   "cell_type": "code",
   "execution_count": 1,
   "id": "24a34bf8",
   "metadata": {},
   "outputs": [],
   "source": [
    "import pandas as pd\n",
    "import datetime as dt"
   ]
  },
  {
   "cell_type": "code",
   "execution_count": 5,
   "id": "05166688",
   "metadata": {},
   "outputs": [
    {
     "data": {
      "text/plain": [
       "datetime.date(2023, 6, 9)"
      ]
     },
     "execution_count": 5,
     "metadata": {},
     "output_type": "execute_result"
    }
   ],
   "source": [
    "dt.date(2023, 6, 9)"
   ]
  },
  {
   "cell_type": "code",
   "execution_count": 6,
   "id": "adf56db7",
   "metadata": {},
   "outputs": [],
   "source": [
    "theday = dt.date(2023, 6, 9)"
   ]
  },
  {
   "cell_type": "code",
   "execution_count": 7,
   "id": "a71b6538",
   "metadata": {},
   "outputs": [
    {
     "data": {
      "text/plain": [
       "2023"
      ]
     },
     "execution_count": 7,
     "metadata": {},
     "output_type": "execute_result"
    }
   ],
   "source": [
    "theday.year"
   ]
  },
  {
   "cell_type": "code",
   "execution_count": 8,
   "id": "93433fb8",
   "metadata": {},
   "outputs": [
    {
     "data": {
      "text/plain": [
       "6"
      ]
     },
     "execution_count": 8,
     "metadata": {},
     "output_type": "execute_result"
    }
   ],
   "source": [
    "theday.month"
   ]
  },
  {
   "cell_type": "code",
   "execution_count": 9,
   "id": "0e003f01",
   "metadata": {},
   "outputs": [
    {
     "data": {
      "text/plain": [
       "9"
      ]
     },
     "execution_count": 9,
     "metadata": {},
     "output_type": "execute_result"
    }
   ],
   "source": [
    "theday.day"
   ]
  },
  {
   "cell_type": "code",
   "execution_count": 10,
   "id": "de69de09",
   "metadata": {},
   "outputs": [
    {
     "data": {
      "text/plain": [
       "datetime.datetime(2023, 6, 9, 22, 30, 15)"
      ]
     },
     "execution_count": 10,
     "metadata": {},
     "output_type": "execute_result"
    }
   ],
   "source": [
    "dt.datetime(2023, 6, 9, 22, 30, 15)"
   ]
  },
  {
   "cell_type": "code",
   "execution_count": 11,
   "id": "3c228aa8",
   "metadata": {},
   "outputs": [
    {
     "data": {
      "text/plain": [
       "'2023-06-09 22:30:15'"
      ]
     },
     "execution_count": 11,
     "metadata": {},
     "output_type": "execute_result"
    }
   ],
   "source": [
    "str(dt.datetime(2023, 6, 9, 22, 30, 15))  #conveting into more readable usting str"
   ]
  },
  {
   "cell_type": "code",
   "execution_count": 12,
   "id": "e14015bb",
   "metadata": {},
   "outputs": [],
   "source": [
    "exactmoment = dt.datetime(2023, 6, 9, 22, 30, 15)"
   ]
  },
  {
   "cell_type": "code",
   "execution_count": 13,
   "id": "43047fe0",
   "metadata": {},
   "outputs": [
    {
     "data": {
      "text/plain": [
       "2023"
      ]
     },
     "execution_count": 13,
     "metadata": {},
     "output_type": "execute_result"
    }
   ],
   "source": [
    "exactmoment.year"
   ]
  },
  {
   "cell_type": "code",
   "execution_count": 14,
   "id": "8d61caa8",
   "metadata": {},
   "outputs": [
    {
     "data": {
      "text/plain": [
       "6"
      ]
     },
     "execution_count": 14,
     "metadata": {},
     "output_type": "execute_result"
    }
   ],
   "source": [
    "exactmoment.month"
   ]
  },
  {
   "cell_type": "code",
   "execution_count": 15,
   "id": "f06688a8",
   "metadata": {},
   "outputs": [
    {
     "data": {
      "text/plain": [
       "9"
      ]
     },
     "execution_count": 15,
     "metadata": {},
     "output_type": "execute_result"
    }
   ],
   "source": [
    "exactmoment.day"
   ]
  },
  {
   "cell_type": "code",
   "execution_count": 16,
   "id": "b9100ba1",
   "metadata": {},
   "outputs": [
    {
     "data": {
      "text/plain": [
       "22"
      ]
     },
     "execution_count": 16,
     "metadata": {},
     "output_type": "execute_result"
    }
   ],
   "source": [
    "exactmoment.hour"
   ]
  },
  {
   "cell_type": "code",
   "execution_count": 17,
   "id": "a973b7cc",
   "metadata": {},
   "outputs": [
    {
     "data": {
      "text/plain": [
       "30"
      ]
     },
     "execution_count": 17,
     "metadata": {},
     "output_type": "execute_result"
    }
   ],
   "source": [
    "exactmoment.minute"
   ]
  },
  {
   "cell_type": "code",
   "execution_count": 18,
   "id": "cf4e76fc",
   "metadata": {},
   "outputs": [
    {
     "data": {
      "text/plain": [
       "15"
      ]
     },
     "execution_count": 18,
     "metadata": {},
     "output_type": "execute_result"
    }
   ],
   "source": [
    "exactmoment.second"
   ]
  },
  {
   "cell_type": "markdown",
   "id": "6ee5eafc",
   "metadata": {},
   "source": [
    "# The pandas Timestamp Object"
   ]
  },
  {
   "cell_type": "code",
   "execution_count": 19,
   "id": "55a0b93d",
   "metadata": {},
   "outputs": [],
   "source": [
    "import pandas as pd\n",
    "import datetime as dt"
   ]
  },
  {
   "cell_type": "code",
   "execution_count": 20,
   "id": "1474706b",
   "metadata": {},
   "outputs": [
    {
     "data": {
      "text/plain": [
       "Timestamp('2023-06-09 00:00:00')"
      ]
     },
     "execution_count": 20,
     "metadata": {},
     "output_type": "execute_result"
    }
   ],
   "source": [
    "pd.Timestamp(\"2023-06-09\")"
   ]
  },
  {
   "cell_type": "code",
   "execution_count": 21,
   "id": "8b62638e",
   "metadata": {},
   "outputs": [
    {
     "data": {
      "text/plain": [
       "Timestamp('2023-06-09 00:00:00')"
      ]
     },
     "execution_count": 21,
     "metadata": {},
     "output_type": "execute_result"
    }
   ],
   "source": [
    "pd.Timestamp(\"2023/06/09\")"
   ]
  },
  {
   "cell_type": "code",
   "execution_count": 22,
   "id": "86f870a6",
   "metadata": {},
   "outputs": [
    {
     "data": {
      "text/plain": [
       "Timestamp('2023-09-01 00:00:00')"
      ]
     },
     "execution_count": 22,
     "metadata": {},
     "output_type": "execute_result"
    }
   ],
   "source": [
    "pd.Timestamp(\"2023,06,09\")"
   ]
  },
  {
   "cell_type": "code",
   "execution_count": 23,
   "id": "87b512f0",
   "metadata": {},
   "outputs": [
    {
     "data": {
      "text/plain": [
       "Timestamp('2023-09-06 00:00:00')"
      ]
     },
     "execution_count": 23,
     "metadata": {},
     "output_type": "execute_result"
    }
   ],
   "source": [
    "pd.Timestamp(\"09/06/2023\")"
   ]
  },
  {
   "cell_type": "code",
   "execution_count": 24,
   "id": "f935e94d",
   "metadata": {},
   "outputs": [
    {
     "data": {
      "text/plain": [
       "Timestamp('2023-06-09 22:30:15')"
      ]
     },
     "execution_count": 24,
     "metadata": {},
     "output_type": "execute_result"
    }
   ],
   "source": [
    "pd.Timestamp(\"2023-06-09 10:30:15 PM\")"
   ]
  },
  {
   "cell_type": "code",
   "execution_count": 25,
   "id": "530d75e3",
   "metadata": {},
   "outputs": [
    {
     "data": {
      "text/plain": [
       "Timestamp('2023-06-09 00:00:00')"
      ]
     },
     "execution_count": 25,
     "metadata": {},
     "output_type": "execute_result"
    }
   ],
   "source": [
    "pd.Timestamp(dt.date(2023, 6, 9))"
   ]
  },
  {
   "cell_type": "code",
   "execution_count": 26,
   "id": "322bacee",
   "metadata": {},
   "outputs": [
    {
     "ename": "TypeError",
     "evalue": "function takes at most 3 arguments (6 given)",
     "output_type": "error",
     "traceback": [
      "\u001b[1;31m---------------------------------------------------------------------------\u001b[0m",
      "\u001b[1;31mTypeError\u001b[0m                                 Traceback (most recent call last)",
      "Cell \u001b[1;32mIn[26], line 1\u001b[0m\n\u001b[1;32m----> 1\u001b[0m pd\u001b[38;5;241m.\u001b[39mTimestamp(dt\u001b[38;5;241m.\u001b[39mdate(\u001b[38;5;241m2023\u001b[39m, \u001b[38;5;241m6\u001b[39m, \u001b[38;5;241m9\u001b[39m, \u001b[38;5;241m22\u001b[39m, \u001b[38;5;241m30\u001b[39m, \u001b[38;5;241m15\u001b[39m))\n",
      "\u001b[1;31mTypeError\u001b[0m: function takes at most 3 arguments (6 given)"
     ]
    }
   ],
   "source": [
    "pd.Timestamp(dt.date(2023, 6, 9, 22, 30, 15))"
   ]
  },
  {
   "cell_type": "markdown",
   "id": "1b30bd6d",
   "metadata": {},
   "source": [
    "# The pandas DateTimeIndex Object"
   ]
  },
  {
   "cell_type": "code",
   "execution_count": 27,
   "id": "9bfb3afc",
   "metadata": {},
   "outputs": [],
   "source": [
    "import pandas as pd\n",
    "import datetime as dt"
   ]
  },
  {
   "cell_type": "code",
   "execution_count": 29,
   "id": "62eea4a3",
   "metadata": {},
   "outputs": [
    {
     "data": {
      "text/plain": [
       "DatetimeIndex(['2023-09-06', '1978-11-16', '1978-11-14'], dtype='datetime64[ns]', freq=None)"
      ]
     },
     "execution_count": 29,
     "metadata": {},
     "output_type": "execute_result"
    }
   ],
   "source": [
    "dates = [\"2023-09-06\", \"1978-11-16\", \"1978-11-14\"]\n",
    "pd.DatetimeIndex(dates)"
   ]
  },
  {
   "cell_type": "code",
   "execution_count": 31,
   "id": "0bf6dfae",
   "metadata": {},
   "outputs": [
    {
     "data": {
      "text/plain": [
       "DatetimeIndex(['2023-09-06', '1978-11-16', '1978-11-14'], dtype='datetime64[ns]', freq=None)"
      ]
     },
     "execution_count": 31,
     "metadata": {},
     "output_type": "execute_result"
    }
   ],
   "source": [
    "dates = [dt.date(2023, 9, 6), dt.date(1978, 11, 16), dt.date(1978, 11, 14)]\n",
    "pd.DatetimeIndex(dates)"
   ]
  },
  {
   "cell_type": "code",
   "execution_count": 34,
   "id": "a310160c",
   "metadata": {},
   "outputs": [],
   "source": [
    "dates = [dt.date(2023, 9, 6), dt.date(1978, 11, 16), dt.date(1978, 11, 14)]\n",
    "dtIndex = pd.DatetimeIndex(dates)"
   ]
  },
  {
   "cell_type": "code",
   "execution_count": 35,
   "id": "035031ee",
   "metadata": {},
   "outputs": [
    {
     "data": {
      "text/plain": [
       "2023-09-06    100\n",
       "1978-11-16    200\n",
       "1978-11-14    300\n",
       "dtype: int64"
      ]
     },
     "execution_count": 35,
     "metadata": {},
     "output_type": "execute_result"
    }
   ],
   "source": [
    "values = [100, 200, 300]\n",
    "pd.Series(data = values, index = dtIndex)"
   ]
  },
  {
   "cell_type": "code",
   "execution_count": 36,
   "id": "9893efb6",
   "metadata": {},
   "outputs": [
    {
     "data": {
      "text/plain": [
       "2023-09-06    Carlos Tomás\n",
       "1978-11-16           María\n",
       "1978-11-14          Carlos\n",
       "dtype: object"
      ]
     },
     "execution_count": 36,
     "metadata": {},
     "output_type": "execute_result"
    }
   ],
   "source": [
    "dates = [dt.date(2023, 9, 6), dt.date(1978, 11, 16), dt.date(1978, 11, 14)]\n",
    "dtIndex = pd.DatetimeIndex(dates)\n",
    "values = [\"Carlos Tomás\", \"María\", \"Carlos\"]\n",
    "pd.Series(data = values, index = dtIndex)"
   ]
  },
  {
   "cell_type": "markdown",
   "id": "95492d38",
   "metadata": {},
   "source": [
    "# The pd.to_datetime Method"
   ]
  },
  {
   "cell_type": "code",
   "execution_count": 37,
   "id": "ec4b41e7",
   "metadata": {},
   "outputs": [],
   "source": [
    "import pandas as pd\n",
    "import datetime as dt"
   ]
  },
  {
   "cell_type": "code",
   "execution_count": 38,
   "id": "49a03faf",
   "metadata": {},
   "outputs": [
    {
     "data": {
      "text/plain": [
       "Timestamp('2023-06-09 00:00:00')"
      ]
     },
     "execution_count": 38,
     "metadata": {},
     "output_type": "execute_result"
    }
   ],
   "source": [
    "pd.to_datetime(\"2023-06-09\")"
   ]
  },
  {
   "cell_type": "code",
   "execution_count": 39,
   "id": "62004600",
   "metadata": {},
   "outputs": [
    {
     "data": {
      "text/plain": [
       "Timestamp('2023-09-06 00:00:00')"
      ]
     },
     "execution_count": 39,
     "metadata": {},
     "output_type": "execute_result"
    }
   ],
   "source": [
    "pd.to_datetime(dt.date(2023, 9, 6))"
   ]
  },
  {
   "cell_type": "code",
   "execution_count": 41,
   "id": "4f59c24a",
   "metadata": {},
   "outputs": [
    {
     "data": {
      "text/plain": [
       "Timestamp('2023-09-06 22:30:15')"
      ]
     },
     "execution_count": 41,
     "metadata": {},
     "output_type": "execute_result"
    }
   ],
   "source": [
    "pd.to_datetime(dt.datetime(2023, 9, 6, 22, 30, 15))"
   ]
  },
  {
   "cell_type": "code",
   "execution_count": 42,
   "id": "9eca4a4d",
   "metadata": {},
   "outputs": [
    {
     "data": {
      "text/plain": [
       "DatetimeIndex(['2023-06-09', '1978-11-16', '1978-11-14'], dtype='datetime64[ns]', freq=None)"
      ]
     },
     "execution_count": 42,
     "metadata": {},
     "output_type": "execute_result"
    }
   ],
   "source": [
    "pd.to_datetime([\"2023-06-09\", \"1978/11/16\", \"November 14th, 1978\"])"
   ]
  },
  {
   "cell_type": "code",
   "execution_count": 44,
   "id": "f4dbd73a",
   "metadata": {},
   "outputs": [
    {
     "data": {
      "text/plain": [
       "0             2023-06-09\n",
       "1             1978/11/16\n",
       "2    November 14th, 1978\n",
       "dtype: object"
      ]
     },
     "execution_count": 44,
     "metadata": {},
     "output_type": "execute_result"
    }
   ],
   "source": [
    "times = pd.Series([\"2023-06-09\", \"1978/11/16\", \"November 14th, 1978\"])\n",
    "times"
   ]
  },
  {
   "cell_type": "code",
   "execution_count": 45,
   "id": "b77a61e8",
   "metadata": {},
   "outputs": [
    {
     "data": {
      "text/plain": [
       "0   2023-06-09\n",
       "1   1978-11-16\n",
       "2   1978-11-14\n",
       "dtype: datetime64[ns]"
      ]
     },
     "execution_count": 45,
     "metadata": {},
     "output_type": "execute_result"
    }
   ],
   "source": [
    "pd.to_datetime(times)"
   ]
  },
  {
   "cell_type": "code",
   "execution_count": 47,
   "id": "09f3c570",
   "metadata": {},
   "outputs": [
    {
     "data": {
      "text/plain": [
       "0    July 4th, 1996\n",
       "1        10/04/1991\n",
       "2             Hello\n",
       "3        2015-02-31\n",
       "dtype: object"
      ]
     },
     "execution_count": 47,
     "metadata": {},
     "output_type": "execute_result"
    }
   ],
   "source": [
    "pd.Series([\"July 4th, 1996\", \"10/04/1991\", \"Hello\", \"2015-02-31\"])"
   ]
  },
  {
   "cell_type": "code",
   "execution_count": 48,
   "id": "3d4d02ee",
   "metadata": {},
   "outputs": [
    {
     "data": {
      "text/plain": [
       "0    July 4th, 1996\n",
       "1        10/04/1991\n",
       "2             Hello\n",
       "3        2015-02-31\n",
       "dtype: object"
      ]
     },
     "execution_count": 48,
     "metadata": {},
     "output_type": "execute_result"
    }
   ],
   "source": [
    "dates = pd.Series([\"July 4th, 1996\", \"10/04/1991\", \"Hello\", \"2015-02-31\"])\n",
    "dates"
   ]
  },
  {
   "cell_type": "code",
   "execution_count": 49,
   "id": "c83866cb",
   "metadata": {},
   "outputs": [
    {
     "data": {
      "text/plain": [
       "0   1996-07-04\n",
       "1   1991-10-04\n",
       "2          NaT\n",
       "3          NaT\n",
       "dtype: datetime64[ns]"
      ]
     },
     "execution_count": 49,
     "metadata": {},
     "output_type": "execute_result"
    }
   ],
   "source": [
    "pd.to_datetime(dates, errors = \"coerce\")"
   ]
  },
  {
   "cell_type": "code",
   "execution_count": 51,
   "id": "7c772dab",
   "metadata": {},
   "outputs": [
    {
     "data": {
      "text/plain": [
       "DatetimeIndex(['2012-10-08 18:15:05', '2012-10-09 18:15:05',\n",
       "               '2012-10-10 18:15:05', '2012-10-11 18:15:05',\n",
       "               '2012-10-12 18:15:05'],\n",
       "              dtype='datetime64[ns]', freq=None)"
      ]
     },
     "execution_count": 51,
     "metadata": {},
     "output_type": "execute_result"
    }
   ],
   "source": [
    "pd.to_datetime([1349720105, 1349806505, 1349892905, 1349979305, 1350065705], unit = \"s\")"
   ]
  },
  {
   "cell_type": "markdown",
   "id": "73f8d85c",
   "metadata": {},
   "source": [
    "# Create Range of Dates with the pd.date_range() Method"
   ]
  },
  {
   "cell_type": "code",
   "execution_count": 52,
   "id": "15d59d41",
   "metadata": {},
   "outputs": [],
   "source": [
    "import pandas as pd\n",
    "import datetime as dt"
   ]
  },
  {
   "cell_type": "code",
   "execution_count": 53,
   "id": "79fc0bd1",
   "metadata": {},
   "outputs": [
    {
     "data": {
      "text/plain": [
       "DatetimeIndex(['1978-11-04', '1978-11-05', '1978-11-06', '1978-11-07',\n",
       "               '1978-11-08', '1978-11-09', '1978-11-10', '1978-11-11',\n",
       "               '1978-11-12', '1978-11-13', '1978-11-14', '1978-11-15',\n",
       "               '1978-11-16'],\n",
       "              dtype='datetime64[ns]', freq='D')"
      ]
     },
     "execution_count": 53,
     "metadata": {},
     "output_type": "execute_result"
    }
   ],
   "source": [
    "pd.date_range(start = \"1978-11-04\", end = \"1978-11-16\", freq = \"D\")"
   ]
  },
  {
   "cell_type": "code",
   "execution_count": 55,
   "id": "933b1abf",
   "metadata": {},
   "outputs": [],
   "source": [
    "times = pd.date_range(start = \"1978-11-04\", end = \"1978-11-16\", freq = \"D\")"
   ]
  },
  {
   "cell_type": "code",
   "execution_count": 56,
   "id": "e7b10442",
   "metadata": {},
   "outputs": [
    {
     "data": {
      "text/plain": [
       "pandas.core.indexes.datetimes.DatetimeIndex"
      ]
     },
     "execution_count": 56,
     "metadata": {},
     "output_type": "execute_result"
    }
   ],
   "source": [
    "type(times)"
   ]
  },
  {
   "cell_type": "code",
   "execution_count": 57,
   "id": "1fe1eea5",
   "metadata": {},
   "outputs": [
    {
     "data": {
      "text/plain": [
       "pandas._libs.tslibs.timestamps.Timestamp"
      ]
     },
     "execution_count": 57,
     "metadata": {},
     "output_type": "execute_result"
    }
   ],
   "source": [
    "type(times[0])"
   ]
  },
  {
   "cell_type": "code",
   "execution_count": 58,
   "id": "f8f47db7",
   "metadata": {},
   "outputs": [
    {
     "data": {
      "text/plain": [
       "DatetimeIndex(['1978-11-04', '1978-11-05', '1978-11-06', '1978-11-07',\n",
       "               '1978-11-08', '1978-11-09', '1978-11-10', '1978-11-11',\n",
       "               '1978-11-12', '1978-11-13', '1978-11-14', '1978-11-15',\n",
       "               '1978-11-16'],\n",
       "              dtype='datetime64[ns]', freq='D')"
      ]
     },
     "execution_count": 58,
     "metadata": {},
     "output_type": "execute_result"
    }
   ],
   "source": [
    "pd.date_range(start = \"1978-11-04\", end = \"1978-11-16\", freq = \"D\")"
   ]
  },
  {
   "cell_type": "code",
   "execution_count": 59,
   "id": "2f40f1a4",
   "metadata": {},
   "outputs": [
    {
     "data": {
      "text/plain": [
       "DatetimeIndex(['1978-11-06', '1978-11-07', '1978-11-08', '1978-11-09',\n",
       "               '1978-11-10', '1978-11-13', '1978-11-14', '1978-11-15',\n",
       "               '1978-11-16'],\n",
       "              dtype='datetime64[ns]', freq='B')"
      ]
     },
     "execution_count": 59,
     "metadata": {},
     "output_type": "execute_result"
    }
   ],
   "source": [
    "pd.date_range(start = \"1978-11-04\", end = \"1978-11-16\", freq = \"B\") #B = Bussiness days"
   ]
  },
  {
   "cell_type": "code",
   "execution_count": 60,
   "id": "2169ee38",
   "metadata": {},
   "outputs": [
    {
     "data": {
      "text/plain": [
       "DatetimeIndex(['1978-11-05', '1978-11-12'], dtype='datetime64[ns]', freq='W-SUN')"
      ]
     },
     "execution_count": 60,
     "metadata": {},
     "output_type": "execute_result"
    }
   ],
   "source": [
    "pd.date_range(start = \"1978-11-04\", end = \"1978-11-16\", freq = \"W\") #W = Week"
   ]
  },
  {
   "cell_type": "code",
   "execution_count": 61,
   "id": "360747e5",
   "metadata": {},
   "outputs": [
    {
     "data": {
      "text/plain": [
       "DatetimeIndex(['1978-11-10'], dtype='datetime64[ns]', freq='W-FRI')"
      ]
     },
     "execution_count": 61,
     "metadata": {},
     "output_type": "execute_result"
    }
   ],
   "source": [
    "pd.date_range(start = \"1978-11-04\", end = \"1978-11-16\", freq = \"W-FRI\") #Week begining on Friday"
   ]
  },
  {
   "cell_type": "code",
   "execution_count": 62,
   "id": "a59ebefd",
   "metadata": {},
   "outputs": [
    {
     "data": {
      "text/plain": [
       "DatetimeIndex(['1978-11-04 00:00:00', '1978-11-04 01:00:00',\n",
       "               '1978-11-04 02:00:00', '1978-11-04 03:00:00',\n",
       "               '1978-11-04 04:00:00', '1978-11-04 05:00:00',\n",
       "               '1978-11-04 06:00:00', '1978-11-04 07:00:00',\n",
       "               '1978-11-04 08:00:00', '1978-11-04 09:00:00',\n",
       "               ...\n",
       "               '1978-11-15 15:00:00', '1978-11-15 16:00:00',\n",
       "               '1978-11-15 17:00:00', '1978-11-15 18:00:00',\n",
       "               '1978-11-15 19:00:00', '1978-11-15 20:00:00',\n",
       "               '1978-11-15 21:00:00', '1978-11-15 22:00:00',\n",
       "               '1978-11-15 23:00:00', '1978-11-16 00:00:00'],\n",
       "              dtype='datetime64[ns]', length=289, freq='H')"
      ]
     },
     "execution_count": 62,
     "metadata": {},
     "output_type": "execute_result"
    }
   ],
   "source": [
    "pd.date_range(start = \"1978-11-04\", end = \"1978-11-16\", freq = \"H\") #H = hour"
   ]
  },
  {
   "cell_type": "code",
   "execution_count": 63,
   "id": "2a8a6970",
   "metadata": {},
   "outputs": [
    {
     "data": {
      "text/plain": [
       "DatetimeIndex(['1978-11-04 00:00:00', '1978-11-04 06:00:00',\n",
       "               '1978-11-04 12:00:00', '1978-11-04 18:00:00',\n",
       "               '1978-11-05 00:00:00', '1978-11-05 06:00:00',\n",
       "               '1978-11-05 12:00:00', '1978-11-05 18:00:00',\n",
       "               '1978-11-06 00:00:00', '1978-11-06 06:00:00',\n",
       "               '1978-11-06 12:00:00', '1978-11-06 18:00:00',\n",
       "               '1978-11-07 00:00:00', '1978-11-07 06:00:00',\n",
       "               '1978-11-07 12:00:00', '1978-11-07 18:00:00',\n",
       "               '1978-11-08 00:00:00', '1978-11-08 06:00:00',\n",
       "               '1978-11-08 12:00:00', '1978-11-08 18:00:00',\n",
       "               '1978-11-09 00:00:00', '1978-11-09 06:00:00',\n",
       "               '1978-11-09 12:00:00', '1978-11-09 18:00:00',\n",
       "               '1978-11-10 00:00:00', '1978-11-10 06:00:00',\n",
       "               '1978-11-10 12:00:00', '1978-11-10 18:00:00',\n",
       "               '1978-11-11 00:00:00', '1978-11-11 06:00:00',\n",
       "               '1978-11-11 12:00:00', '1978-11-11 18:00:00',\n",
       "               '1978-11-12 00:00:00', '1978-11-12 06:00:00',\n",
       "               '1978-11-12 12:00:00', '1978-11-12 18:00:00',\n",
       "               '1978-11-13 00:00:00', '1978-11-13 06:00:00',\n",
       "               '1978-11-13 12:00:00', '1978-11-13 18:00:00',\n",
       "               '1978-11-14 00:00:00', '1978-11-14 06:00:00',\n",
       "               '1978-11-14 12:00:00', '1978-11-14 18:00:00',\n",
       "               '1978-11-15 00:00:00', '1978-11-15 06:00:00',\n",
       "               '1978-11-15 12:00:00', '1978-11-15 18:00:00',\n",
       "               '1978-11-16 00:00:00'],\n",
       "              dtype='datetime64[ns]', freq='6H')"
      ]
     },
     "execution_count": 63,
     "metadata": {},
     "output_type": "execute_result"
    }
   ],
   "source": [
    "pd.date_range(start = \"1978-11-04\", end = \"1978-11-16\", freq = \"6H\") "
   ]
  },
  {
   "cell_type": "code",
   "execution_count": 65,
   "id": "9e2fbaab",
   "metadata": {},
   "outputs": [
    {
     "data": {
      "text/plain": [
       "DatetimeIndex(['1978-11-30'], dtype='datetime64[ns]', freq='M')"
      ]
     },
     "execution_count": 65,
     "metadata": {},
     "output_type": "execute_result"
    }
   ],
   "source": [
    "pd.date_range(start = \"1978-11-01\", end = \"1978-12-16\", freq = \"M\") #M = month"
   ]
  },
  {
   "cell_type": "code",
   "execution_count": 66,
   "id": "75ec7db3",
   "metadata": {
    "scrolled": true
   },
   "outputs": [
    {
     "data": {
      "text/plain": [
       "DatetimeIndex(['1978-12-31', '1979-12-31', '1980-12-31', '1981-12-31',\n",
       "               '1982-12-31', '1983-12-31', '1984-12-31', '1985-12-31',\n",
       "               '1986-12-31', '1987-12-31', '1988-12-31', '1989-12-31',\n",
       "               '1990-12-31', '1991-12-31', '1992-12-31', '1993-12-31',\n",
       "               '1994-12-31', '1995-12-31', '1996-12-31', '1997-12-31',\n",
       "               '1998-12-31', '1999-12-31', '2000-12-31', '2001-12-31',\n",
       "               '2002-12-31', '2003-12-31', '2004-12-31', '2005-12-31',\n",
       "               '2006-12-31', '2007-12-31', '2008-12-31', '2009-12-31',\n",
       "               '2010-12-31', '2011-12-31', '2012-12-31', '2013-12-31',\n",
       "               '2014-12-31', '2015-12-31', '2016-12-31', '2017-12-31',\n",
       "               '2018-12-31', '2019-12-31', '2020-12-31', '2021-12-31',\n",
       "               '2022-12-31'],\n",
       "              dtype='datetime64[ns]', freq='A-DEC')"
      ]
     },
     "execution_count": 66,
     "metadata": {},
     "output_type": "execute_result"
    }
   ],
   "source": [
    "pd.date_range(start = \"1978-11-01\", end = \"2023-11-01\", freq = \"A\") #A = year"
   ]
  },
  {
   "cell_type": "code",
   "execution_count": 67,
   "id": "d3781c9f",
   "metadata": {},
   "outputs": [
    {
     "data": {
      "text/plain": [
       "DatetimeIndex(['2012-09-09', '2012-09-10', '2012-09-11', '2012-09-12',\n",
       "               '2012-09-13', '2012-09-14', '2012-09-15', '2012-09-16',\n",
       "               '2012-09-17', '2012-09-18', '2012-09-19', '2012-09-20',\n",
       "               '2012-09-21', '2012-09-22', '2012-09-23', '2012-09-24',\n",
       "               '2012-09-25', '2012-09-26', '2012-09-27', '2012-09-28',\n",
       "               '2012-09-29', '2012-09-30', '2012-10-01', '2012-10-02',\n",
       "               '2012-10-03'],\n",
       "              dtype='datetime64[ns]', freq='D')"
      ]
     },
     "execution_count": 67,
     "metadata": {},
     "output_type": "execute_result"
    }
   ],
   "source": [
    "pd.date_range(start = \"2012-09-09\", periods = 25, freq = \"D\")"
   ]
  },
  {
   "cell_type": "code",
   "execution_count": 68,
   "id": "acf82f60",
   "metadata": {},
   "outputs": [
    {
     "data": {
      "text/plain": [
       "DatetimeIndex(['2012-09-10', '2012-09-11', '2012-09-12', '2012-09-13',\n",
       "               '2012-09-14', '2012-09-17', '2012-09-18', '2012-09-19',\n",
       "               '2012-09-20', '2012-09-21', '2012-09-24', '2012-09-25',\n",
       "               '2012-09-26', '2012-09-27', '2012-09-28', '2012-10-01',\n",
       "               '2012-10-02', '2012-10-03', '2012-10-04', '2012-10-05',\n",
       "               '2012-10-08', '2012-10-09', '2012-10-10', '2012-10-11',\n",
       "               '2012-10-12'],\n",
       "              dtype='datetime64[ns]', freq='B')"
      ]
     },
     "execution_count": 68,
     "metadata": {},
     "output_type": "execute_result"
    }
   ],
   "source": [
    "pd.date_range(start = \"2012-09-09\", periods = 25, freq = \"B\")"
   ]
  },
  {
   "cell_type": "code",
   "execution_count": 69,
   "id": "8ef47d64",
   "metadata": {},
   "outputs": [
    {
     "data": {
      "text/plain": [
       "DatetimeIndex(['2012-09-09', '2012-09-16', '2012-09-23', '2012-09-30',\n",
       "               '2012-10-07', '2012-10-14', '2012-10-21', '2012-10-28',\n",
       "               '2012-11-04', '2012-11-11', '2012-11-18', '2012-11-25',\n",
       "               '2012-12-02', '2012-12-09', '2012-12-16', '2012-12-23',\n",
       "               '2012-12-30', '2013-01-06', '2013-01-13', '2013-01-20',\n",
       "               '2013-01-27', '2013-02-03', '2013-02-10', '2013-02-17',\n",
       "               '2013-02-24'],\n",
       "              dtype='datetime64[ns]', freq='W-SUN')"
      ]
     },
     "execution_count": 69,
     "metadata": {},
     "output_type": "execute_result"
    }
   ],
   "source": [
    "pd.date_range(start = \"2012-09-09\", periods = 25, freq = \"W\")"
   ]
  },
  {
   "cell_type": "code",
   "execution_count": 1,
   "id": "8128d5f1",
   "metadata": {},
   "outputs": [],
   "source": [
    "import pandas as pd\n",
    "import datetime as dt"
   ]
  },
  {
   "cell_type": "code",
   "execution_count": 2,
   "id": "d4c096ef",
   "metadata": {},
   "outputs": [
    {
     "data": {
      "text/plain": [
       "DatetimeIndex(['1999-12-12', '1999-12-13', '1999-12-14', '1999-12-15',\n",
       "               '1999-12-16', '1999-12-17', '1999-12-18', '1999-12-19',\n",
       "               '1999-12-20', '1999-12-21', '1999-12-22', '1999-12-23',\n",
       "               '1999-12-24', '1999-12-25', '1999-12-26', '1999-12-27',\n",
       "               '1999-12-28', '1999-12-29', '1999-12-30', '1999-12-31'],\n",
       "              dtype='datetime64[ns]', freq='D')"
      ]
     },
     "execution_count": 2,
     "metadata": {},
     "output_type": "execute_result"
    }
   ],
   "source": [
    "pd.date_range(end = \"1999-12-31\", periods = 20, freq = \"D\")"
   ]
  },
  {
   "cell_type": "code",
   "execution_count": 3,
   "id": "56929439",
   "metadata": {},
   "outputs": [
    {
     "data": {
      "text/plain": [
       "DatetimeIndex(['1999-11-08', '1999-11-09', '1999-11-10', '1999-11-11',\n",
       "               '1999-11-12', '1999-11-15', '1999-11-16', '1999-11-17',\n",
       "               '1999-11-18', '1999-11-19', '1999-11-22', '1999-11-23',\n",
       "               '1999-11-24', '1999-11-25', '1999-11-26', '1999-11-29',\n",
       "               '1999-11-30', '1999-12-01', '1999-12-02', '1999-12-03',\n",
       "               '1999-12-06', '1999-12-07', '1999-12-08', '1999-12-09',\n",
       "               '1999-12-10', '1999-12-13', '1999-12-14', '1999-12-15',\n",
       "               '1999-12-16', '1999-12-17', '1999-12-20', '1999-12-21',\n",
       "               '1999-12-22', '1999-12-23', '1999-12-24', '1999-12-27',\n",
       "               '1999-12-28', '1999-12-29', '1999-12-30', '1999-12-31'],\n",
       "              dtype='datetime64[ns]', freq='B')"
      ]
     },
     "execution_count": 3,
     "metadata": {},
     "output_type": "execute_result"
    }
   ],
   "source": [
    "pd.date_range(end = \"1999-12-31\", periods = 40, freq = \"B\")"
   ]
  },
  {
   "cell_type": "code",
   "execution_count": 4,
   "id": "926372f9",
   "metadata": {},
   "outputs": [
    {
     "data": {
      "text/plain": [
       "DatetimeIndex(['1999-08-15', '1999-08-22', '1999-08-29', '1999-09-05',\n",
       "               '1999-09-12', '1999-09-19', '1999-09-26', '1999-10-03',\n",
       "               '1999-10-10', '1999-10-17', '1999-10-24', '1999-10-31',\n",
       "               '1999-11-07', '1999-11-14', '1999-11-21', '1999-11-28',\n",
       "               '1999-12-05', '1999-12-12', '1999-12-19', '1999-12-26'],\n",
       "              dtype='datetime64[ns]', freq='W-SUN')"
      ]
     },
     "execution_count": 4,
     "metadata": {},
     "output_type": "execute_result"
    }
   ],
   "source": [
    "pd.date_range(end = \"1999-12-31\", periods = 20, freq = \"W-SUN\")"
   ]
  },
  {
   "cell_type": "code",
   "execution_count": 5,
   "id": "e3c9b39a",
   "metadata": {},
   "outputs": [
    {
     "data": {
      "text/plain": [
       "DatetimeIndex(['1998-05-31', '1998-06-30', '1998-07-31', '1998-08-31',\n",
       "               '1998-09-30', '1998-10-31', '1998-11-30', '1998-12-31',\n",
       "               '1999-01-31', '1999-02-28', '1999-03-31', '1999-04-30',\n",
       "               '1999-05-31', '1999-06-30', '1999-07-31', '1999-08-31',\n",
       "               '1999-09-30', '1999-10-31', '1999-11-30', '1999-12-31'],\n",
       "              dtype='datetime64[ns]', freq='M')"
      ]
     },
     "execution_count": 5,
     "metadata": {},
     "output_type": "execute_result"
    }
   ],
   "source": [
    "pd.date_range(end = \"1999-12-31\", periods = 20, freq = \"M\")"
   ]
  },
  {
   "cell_type": "code",
   "execution_count": 6,
   "id": "95febcfa",
   "metadata": {},
   "outputs": [
    {
     "data": {
      "text/plain": [
       "DatetimeIndex(['1998-05-01', '1998-06-01', '1998-07-01', '1998-08-01',\n",
       "               '1998-09-01', '1998-10-01', '1998-11-01', '1998-12-01',\n",
       "               '1999-01-01', '1999-02-01', '1999-03-01', '1999-04-01',\n",
       "               '1999-05-01', '1999-06-01', '1999-07-01', '1999-08-01',\n",
       "               '1999-09-01', '1999-10-01', '1999-11-01', '1999-12-01'],\n",
       "              dtype='datetime64[ns]', freq='MS')"
      ]
     },
     "execution_count": 6,
     "metadata": {},
     "output_type": "execute_result"
    }
   ],
   "source": [
    "pd.date_range(end = \"1999-12-31\", periods = 20, freq = \"MS\")"
   ]
  },
  {
   "cell_type": "code",
   "execution_count": 7,
   "id": "522f0ae5",
   "metadata": {},
   "outputs": [
    {
     "data": {
      "text/plain": [
       "DatetimeIndex(['1999-12-25 11:00:00', '1999-12-25 18:00:00',\n",
       "               '1999-12-26 01:00:00', '1999-12-26 08:00:00',\n",
       "               '1999-12-26 15:00:00', '1999-12-26 22:00:00',\n",
       "               '1999-12-27 05:00:00', '1999-12-27 12:00:00',\n",
       "               '1999-12-27 19:00:00', '1999-12-28 02:00:00',\n",
       "               '1999-12-28 09:00:00', '1999-12-28 16:00:00',\n",
       "               '1999-12-28 23:00:00', '1999-12-29 06:00:00',\n",
       "               '1999-12-29 13:00:00', '1999-12-29 20:00:00',\n",
       "               '1999-12-30 03:00:00', '1999-12-30 10:00:00',\n",
       "               '1999-12-30 17:00:00', '1999-12-31 00:00:00'],\n",
       "              dtype='datetime64[ns]', freq='7H')"
      ]
     },
     "execution_count": 7,
     "metadata": {},
     "output_type": "execute_result"
    }
   ],
   "source": [
    "pd.date_range(end = \"1999-12-31\", periods = 20, freq = \"7H\")"
   ]
  },
  {
   "cell_type": "markdown",
   "id": "6b66e789",
   "metadata": {},
   "source": [
    "# The .dt Accessor"
   ]
  },
  {
   "cell_type": "code",
   "execution_count": 8,
   "id": "a3e32d57",
   "metadata": {},
   "outputs": [],
   "source": [
    "import pandas as pd\n",
    "import datetime as dt"
   ]
  },
  {
   "cell_type": "code",
   "execution_count": 9,
   "id": "71b15f7c",
   "metadata": {},
   "outputs": [
    {
     "data": {
      "text/plain": [
       "DatetimeIndex(['2000-01-01', '2000-01-25', '2000-02-18', '2000-03-13',\n",
       "               '2000-04-06', '2000-04-30', '2000-05-24', '2000-06-17',\n",
       "               '2000-07-11', '2000-08-04',\n",
       "               ...\n",
       "               '2010-05-20', '2010-06-13', '2010-07-07', '2010-07-31',\n",
       "               '2010-08-24', '2010-09-17', '2010-10-11', '2010-11-04',\n",
       "               '2010-11-28', '2010-12-22'],\n",
       "              dtype='datetime64[ns]', length=168, freq='24D')"
      ]
     },
     "execution_count": 9,
     "metadata": {},
     "output_type": "execute_result"
    }
   ],
   "source": [
    "pd.date_range(start = \"2000-01-01\", end = \"2010-12-31\", freq = \"24D\")"
   ]
  },
  {
   "cell_type": "code",
   "execution_count": 10,
   "id": "1ad73d0c",
   "metadata": {},
   "outputs": [],
   "source": [
    "bunch_of_dates = pd.date_range(start = \"2000-01-01\", end = \"2010-12-31\", freq = \"24D\")"
   ]
  },
  {
   "cell_type": "code",
   "execution_count": 11,
   "id": "1dc8783e",
   "metadata": {},
   "outputs": [
    {
     "data": {
      "text/plain": [
       "0   2000-01-01\n",
       "1   2000-01-25\n",
       "2   2000-02-18\n",
       "dtype: datetime64[ns]"
      ]
     },
     "execution_count": 11,
     "metadata": {},
     "output_type": "execute_result"
    }
   ],
   "source": [
    "s = pd.Series(bunch_of_dates)\n",
    "s.head(3)"
   ]
  },
  {
   "cell_type": "code",
   "execution_count": 12,
   "id": "363fadd6",
   "metadata": {
    "scrolled": true
   },
   "outputs": [
    {
     "data": {
      "text/plain": [
       "0       1\n",
       "1      25\n",
       "2      18\n",
       "3      13\n",
       "4       6\n",
       "       ..\n",
       "163    17\n",
       "164    11\n",
       "165     4\n",
       "166    28\n",
       "167    22\n",
       "Length: 168, dtype: int64"
      ]
     },
     "execution_count": 12,
     "metadata": {},
     "output_type": "execute_result"
    }
   ],
   "source": [
    "s.dt.day"
   ]
  },
  {
   "cell_type": "code",
   "execution_count": 28,
   "id": "0907a342",
   "metadata": {},
   "outputs": [
    {
     "data": {
      "text/plain": [
       "0       Saturday\n",
       "1        Tuesday\n",
       "2         Friday\n",
       "3         Monday\n",
       "4       Thursday\n",
       "         ...    \n",
       "163       Friday\n",
       "164       Monday\n",
       "165     Thursday\n",
       "166       Sunday\n",
       "167    Wednesday\n",
       "Length: 168, dtype: object"
      ]
     },
     "execution_count": 28,
     "metadata": {},
     "output_type": "execute_result"
    }
   ],
   "source": [
    "s.dt.day_name()"
   ]
  },
  {
   "cell_type": "code",
   "execution_count": 13,
   "id": "0efac04b",
   "metadata": {},
   "outputs": [
    {
     "data": {
      "text/plain": [
       "0       1\n",
       "1       1\n",
       "2       2\n",
       "3       3\n",
       "4       4\n",
       "       ..\n",
       "163     9\n",
       "164    10\n",
       "165    11\n",
       "166    11\n",
       "167    12\n",
       "Length: 168, dtype: int64"
      ]
     },
     "execution_count": 13,
     "metadata": {},
     "output_type": "execute_result"
    }
   ],
   "source": [
    "s.dt.month"
   ]
  },
  {
   "cell_type": "code",
   "execution_count": 15,
   "id": "5b9a8199",
   "metadata": {},
   "outputs": [
    {
     "data": {
      "text/plain": [
       "0      5\n",
       "1      1\n",
       "2      4\n",
       "3      0\n",
       "4      3\n",
       "      ..\n",
       "163    4\n",
       "164    0\n",
       "165    3\n",
       "166    6\n",
       "167    2\n",
       "Length: 168, dtype: int64"
      ]
     },
     "execution_count": 15,
     "metadata": {},
     "output_type": "execute_result"
    }
   ],
   "source": [
    "s.dt.weekday"
   ]
  },
  {
   "cell_type": "code",
   "execution_count": 24,
   "id": "0448a57f",
   "metadata": {},
   "outputs": [
    {
     "data": {
      "text/plain": [
       "0     2000-01-01\n",
       "19    2001-04-01\n",
       "38    2002-07-01\n",
       "137   2009-01-01\n",
       "dtype: datetime64[ns]"
      ]
     },
     "execution_count": 24,
     "metadata": {},
     "output_type": "execute_result"
    }
   ],
   "source": [
    "mask = s.dt.is_quarter_start\n",
    "s[mask]"
   ]
  },
  {
   "cell_type": "code",
   "execution_count": 29,
   "id": "402305de",
   "metadata": {},
   "outputs": [
    {
     "data": {
      "text/plain": [
       "5     2000-04-30\n",
       "57    2003-09-30\n",
       "71    2004-08-31\n",
       "90    2005-11-30\n",
       "123   2008-01-31\n",
       "161   2010-07-31\n",
       "dtype: datetime64[ns]"
      ]
     },
     "execution_count": 29,
     "metadata": {},
     "output_type": "execute_result"
    }
   ],
   "source": [
    "mask = s.dt.is_month_end\n",
    "s[mask]"
   ]
  },
  {
   "cell_type": "markdown",
   "id": "62ee7e65",
   "metadata": {},
   "source": [
    "# Import Financial Dataset with pandas_datareader Library"
   ]
  },
  {
   "cell_type": "code",
   "execution_count": 3,
   "id": "9ed0fdd0",
   "metadata": {},
   "outputs": [],
   "source": [
    "import pandas as pd\n",
    "import datetime as dt\n",
    "from pandas_datareader import data"
   ]
  },
  {
   "cell_type": "code",
   "execution_count": 5,
   "id": "5fe64d27",
   "metadata": {},
   "outputs": [
    {
     "data": {
      "text/html": [
       "<div>\n",
       "<style scoped>\n",
       "    .dataframe tbody tr th:only-of-type {\n",
       "        vertical-align: middle;\n",
       "    }\n",
       "\n",
       "    .dataframe tbody tr th {\n",
       "        vertical-align: top;\n",
       "    }\n",
       "\n",
       "    .dataframe thead th {\n",
       "        text-align: right;\n",
       "    }\n",
       "</style>\n",
       "<table border=\"1\" class=\"dataframe\">\n",
       "  <thead>\n",
       "    <tr style=\"text-align: right;\">\n",
       "      <th></th>\n",
       "      <th>Open</th>\n",
       "      <th>High</th>\n",
       "      <th>Low</th>\n",
       "      <th>Close</th>\n",
       "      <th>Volume</th>\n",
       "    </tr>\n",
       "    <tr>\n",
       "      <th>Date</th>\n",
       "      <th></th>\n",
       "      <th></th>\n",
       "      <th></th>\n",
       "      <th></th>\n",
       "      <th></th>\n",
       "    </tr>\n",
       "  </thead>\n",
       "  <tbody>\n",
       "    <tr>\n",
       "      <th>2020-12-31</th>\n",
       "      <td>217.8220</td>\n",
       "      <td>219.1040</td>\n",
       "      <td>215.8380</td>\n",
       "      <td>218.5280</td>\n",
       "      <td>2.131555e+07</td>\n",
       "    </tr>\n",
       "    <tr>\n",
       "      <th>2020-12-30</th>\n",
       "      <td>221.2770</td>\n",
       "      <td>221.6740</td>\n",
       "      <td>217.5950</td>\n",
       "      <td>217.8020</td>\n",
       "      <td>2.063381e+07</td>\n",
       "    </tr>\n",
       "    <tr>\n",
       "      <th>2020-12-29</th>\n",
       "      <td>222.3500</td>\n",
       "      <td>223.2140</td>\n",
       "      <td>219.6590</td>\n",
       "      <td>220.2050</td>\n",
       "      <td>1.771353e+07</td>\n",
       "    </tr>\n",
       "    <tr>\n",
       "      <th>2020-12-28</th>\n",
       "      <td>220.5040</td>\n",
       "      <td>222.0710</td>\n",
       "      <td>219.1230</td>\n",
       "      <td>221.0100</td>\n",
       "      <td>1.825327e+07</td>\n",
       "    </tr>\n",
       "    <tr>\n",
       "      <th>2020-12-24</th>\n",
       "      <td>217.5450</td>\n",
       "      <td>219.6890</td>\n",
       "      <td>217.3260</td>\n",
       "      <td>218.8550</td>\n",
       "      <td>1.073870e+07</td>\n",
       "    </tr>\n",
       "    <tr>\n",
       "      <th>...</th>\n",
       "      <td>...</td>\n",
       "      <td>...</td>\n",
       "      <td>...</td>\n",
       "      <td>...</td>\n",
       "      <td>...</td>\n",
       "    </tr>\n",
       "    <tr>\n",
       "      <th>2010-01-08</th>\n",
       "      <td>23.7837</td>\n",
       "      <td>24.2642</td>\n",
       "      <td>23.7608</td>\n",
       "      <td>24.0934</td>\n",
       "      <td>6.515561e+07</td>\n",
       "    </tr>\n",
       "    <tr>\n",
       "      <th>2010-01-07</th>\n",
       "      <td>24.0537</td>\n",
       "      <td>24.1232</td>\n",
       "      <td>23.7221</td>\n",
       "      <td>23.9257</td>\n",
       "      <td>6.434577e+07</td>\n",
       "    </tr>\n",
       "    <tr>\n",
       "      <th>2010-01-06</th>\n",
       "      <td>24.2642</td>\n",
       "      <td>24.4230</td>\n",
       "      <td>23.9852</td>\n",
       "      <td>24.1758</td>\n",
       "      <td>7.403254e+07</td>\n",
       "    </tr>\n",
       "    <tr>\n",
       "      <th>2010-01-05</th>\n",
       "      <td>24.2542</td>\n",
       "      <td>24.4389</td>\n",
       "      <td>24.0765</td>\n",
       "      <td>24.3267</td>\n",
       "      <td>6.331174e+07</td>\n",
       "    </tr>\n",
       "    <tr>\n",
       "      <th>2010-01-04</th>\n",
       "      <td>24.0854</td>\n",
       "      <td>24.4389</td>\n",
       "      <td>24.0358</td>\n",
       "      <td>24.3178</td>\n",
       "      <td>4.886916e+07</td>\n",
       "    </tr>\n",
       "  </tbody>\n",
       "</table>\n",
       "<p>2769 rows × 5 columns</p>\n",
       "</div>"
      ],
      "text/plain": [
       "                Open      High       Low     Close        Volume\n",
       "Date                                                            \n",
       "2020-12-31  217.8220  219.1040  215.8380  218.5280  2.131555e+07\n",
       "2020-12-30  221.2770  221.6740  217.5950  217.8020  2.063381e+07\n",
       "2020-12-29  222.3500  223.2140  219.6590  220.2050  1.771353e+07\n",
       "2020-12-28  220.5040  222.0710  219.1230  221.0100  1.825327e+07\n",
       "2020-12-24  217.5450  219.6890  217.3260  218.8550  1.073870e+07\n",
       "...              ...       ...       ...       ...           ...\n",
       "2010-01-08   23.7837   24.2642   23.7608   24.0934  6.515561e+07\n",
       "2010-01-07   24.0537   24.1232   23.7221   23.9257  6.434577e+07\n",
       "2010-01-06   24.2642   24.4230   23.9852   24.1758  7.403254e+07\n",
       "2010-01-05   24.2542   24.4389   24.0765   24.3267  6.331174e+07\n",
       "2010-01-04   24.0854   24.4389   24.0358   24.3178  4.886916e+07\n",
       "\n",
       "[2769 rows x 5 columns]"
      ]
     },
     "execution_count": 5,
     "metadata": {},
     "output_type": "execute_result"
    }
   ],
   "source": [
    "data.DataReader(name =\"MSFT\", data_source =\"stooq\", start = \"2010-01-01\", end = \"2020-12-31\")"
   ]
  },
  {
   "cell_type": "code",
   "execution_count": 6,
   "id": "54c2d487",
   "metadata": {},
   "outputs": [
    {
     "data": {
      "text/html": [
       "<div>\n",
       "<style scoped>\n",
       "    .dataframe tbody tr th:only-of-type {\n",
       "        vertical-align: middle;\n",
       "    }\n",
       "\n",
       "    .dataframe tbody tr th {\n",
       "        vertical-align: top;\n",
       "    }\n",
       "\n",
       "    .dataframe thead th {\n",
       "        text-align: right;\n",
       "    }\n",
       "</style>\n",
       "<table border=\"1\" class=\"dataframe\">\n",
       "  <thead>\n",
       "    <tr style=\"text-align: right;\">\n",
       "      <th></th>\n",
       "      <th>Open</th>\n",
       "      <th>High</th>\n",
       "      <th>Low</th>\n",
       "      <th>Close</th>\n",
       "      <th>Volume</th>\n",
       "    </tr>\n",
       "    <tr>\n",
       "      <th>Date</th>\n",
       "      <th></th>\n",
       "      <th></th>\n",
       "      <th></th>\n",
       "      <th></th>\n",
       "      <th></th>\n",
       "    </tr>\n",
       "  </thead>\n",
       "  <tbody>\n",
       "    <tr>\n",
       "      <th>2020-12-31</th>\n",
       "      <td>217.822</td>\n",
       "      <td>219.104</td>\n",
       "      <td>215.838</td>\n",
       "      <td>218.528</td>\n",
       "      <td>2.131555e+07</td>\n",
       "    </tr>\n",
       "    <tr>\n",
       "      <th>2020-12-30</th>\n",
       "      <td>221.277</td>\n",
       "      <td>221.674</td>\n",
       "      <td>217.595</td>\n",
       "      <td>217.802</td>\n",
       "      <td>2.063381e+07</td>\n",
       "    </tr>\n",
       "    <tr>\n",
       "      <th>2020-12-29</th>\n",
       "      <td>222.350</td>\n",
       "      <td>223.214</td>\n",
       "      <td>219.659</td>\n",
       "      <td>220.205</td>\n",
       "      <td>1.771353e+07</td>\n",
       "    </tr>\n",
       "  </tbody>\n",
       "</table>\n",
       "</div>"
      ],
      "text/plain": [
       "               Open     High      Low    Close        Volume\n",
       "Date                                                        \n",
       "2020-12-31  217.822  219.104  215.838  218.528  2.131555e+07\n",
       "2020-12-30  221.277  221.674  217.595  217.802  2.063381e+07\n",
       "2020-12-29  222.350  223.214  219.659  220.205  1.771353e+07"
      ]
     },
     "execution_count": 6,
     "metadata": {},
     "output_type": "execute_result"
    }
   ],
   "source": [
    "stocks = data.DataReader(name =\"MSFT\", data_source =\"stooq\", start = \"2010-01-01\", end = \"2020-12-31\")\n",
    "stocks.head(3)"
   ]
  },
  {
   "cell_type": "code",
   "execution_count": 7,
   "id": "d497aa03",
   "metadata": {},
   "outputs": [
    {
     "data": {
      "text/plain": [
       "array([[2.17822000e+02, 2.19104000e+02, 2.15838000e+02, 2.18528000e+02,\n",
       "        2.13155521e+07],\n",
       "       [2.21277000e+02, 2.21674000e+02, 2.17595000e+02, 2.17802000e+02,\n",
       "        2.06338130e+07],\n",
       "       [2.22350000e+02, 2.23214000e+02, 2.19659000e+02, 2.20205000e+02,\n",
       "        1.77135297e+07],\n",
       "       ...,\n",
       "       [2.42642000e+01, 2.44230000e+01, 2.39852000e+01, 2.41758000e+01,\n",
       "        7.40325385e+07],\n",
       "       [2.42542000e+01, 2.44389000e+01, 2.40765000e+01, 2.43267000e+01,\n",
       "        6.33117379e+07],\n",
       "       [2.40854000e+01, 2.44389000e+01, 2.40358000e+01, 2.43178000e+01,\n",
       "        4.88691616e+07]])"
      ]
     },
     "execution_count": 7,
     "metadata": {},
     "output_type": "execute_result"
    }
   ],
   "source": [
    "stocks.values"
   ]
  },
  {
   "cell_type": "code",
   "execution_count": 9,
   "id": "32cd8dae",
   "metadata": {},
   "outputs": [
    {
     "data": {
      "text/plain": [
       "Index(['Open', 'High', 'Low', 'Close', 'Volume'], dtype='object')"
      ]
     },
     "execution_count": 9,
     "metadata": {},
     "output_type": "execute_result"
    }
   ],
   "source": [
    "stocks.columns"
   ]
  },
  {
   "cell_type": "code",
   "execution_count": 10,
   "id": "734ed9e9",
   "metadata": {},
   "outputs": [
    {
     "data": {
      "text/plain": [
       "DatetimeIndex(['2020-12-31', '2020-12-30', '2020-12-29', '2020-12-28',\n",
       "               '2020-12-24', '2020-12-23', '2020-12-22', '2020-12-21',\n",
       "               '2020-12-18', '2020-12-17',\n",
       "               ...\n",
       "               '2010-01-15', '2010-01-14', '2010-01-13', '2010-01-12',\n",
       "               '2010-01-11', '2010-01-08', '2010-01-07', '2010-01-06',\n",
       "               '2010-01-05', '2010-01-04'],\n",
       "              dtype='datetime64[ns]', name='Date', length=2769, freq=None)"
      ]
     },
     "execution_count": 10,
     "metadata": {},
     "output_type": "execute_result"
    }
   ],
   "source": [
    "stocks.index"
   ]
  },
  {
   "cell_type": "code",
   "execution_count": 11,
   "id": "eeeabb45",
   "metadata": {},
   "outputs": [
    {
     "data": {
      "text/plain": [
       "[DatetimeIndex(['2020-12-31', '2020-12-30', '2020-12-29', '2020-12-28',\n",
       "                '2020-12-24', '2020-12-23', '2020-12-22', '2020-12-21',\n",
       "                '2020-12-18', '2020-12-17',\n",
       "                ...\n",
       "                '2010-01-15', '2010-01-14', '2010-01-13', '2010-01-12',\n",
       "                '2010-01-11', '2010-01-08', '2010-01-07', '2010-01-06',\n",
       "                '2010-01-05', '2010-01-04'],\n",
       "               dtype='datetime64[ns]', name='Date', length=2769, freq=None),\n",
       " Index(['Open', 'High', 'Low', 'Close', 'Volume'], dtype='object')]"
      ]
     },
     "execution_count": 11,
     "metadata": {},
     "output_type": "execute_result"
    }
   ],
   "source": [
    "stocks.axes"
   ]
  },
  {
   "cell_type": "markdown",
   "id": "37b4c8fa",
   "metadata": {},
   "source": [
    "# Selecting Rows from a DataFrame with a DateTimeIndex"
   ]
  },
  {
   "cell_type": "code",
   "execution_count": null,
   "id": "a57bd991",
   "metadata": {},
   "outputs": [],
   "source": [
    "import pandas as pd\n",
    "import datetime as dt\n",
    "from pandas_datareader import data"
   ]
  },
  {
   "cell_type": "code",
   "execution_count": 12,
   "id": "4c91531c",
   "metadata": {},
   "outputs": [
    {
     "data": {
      "text/html": [
       "<div>\n",
       "<style scoped>\n",
       "    .dataframe tbody tr th:only-of-type {\n",
       "        vertical-align: middle;\n",
       "    }\n",
       "\n",
       "    .dataframe tbody tr th {\n",
       "        vertical-align: top;\n",
       "    }\n",
       "\n",
       "    .dataframe thead th {\n",
       "        text-align: right;\n",
       "    }\n",
       "</style>\n",
       "<table border=\"1\" class=\"dataframe\">\n",
       "  <thead>\n",
       "    <tr style=\"text-align: right;\">\n",
       "      <th></th>\n",
       "      <th>Open</th>\n",
       "      <th>High</th>\n",
       "      <th>Low</th>\n",
       "      <th>Close</th>\n",
       "      <th>Volume</th>\n",
       "    </tr>\n",
       "    <tr>\n",
       "      <th>Date</th>\n",
       "      <th></th>\n",
       "      <th></th>\n",
       "      <th></th>\n",
       "      <th></th>\n",
       "      <th></th>\n",
       "    </tr>\n",
       "  </thead>\n",
       "  <tbody>\n",
       "    <tr>\n",
       "      <th>2020-12-31</th>\n",
       "      <td>217.822</td>\n",
       "      <td>219.104</td>\n",
       "      <td>215.838</td>\n",
       "      <td>218.528</td>\n",
       "      <td>2.131555e+07</td>\n",
       "    </tr>\n",
       "    <tr>\n",
       "      <th>2020-12-30</th>\n",
       "      <td>221.277</td>\n",
       "      <td>221.674</td>\n",
       "      <td>217.595</td>\n",
       "      <td>217.802</td>\n",
       "      <td>2.063381e+07</td>\n",
       "    </tr>\n",
       "    <tr>\n",
       "      <th>2020-12-29</th>\n",
       "      <td>222.350</td>\n",
       "      <td>223.214</td>\n",
       "      <td>219.659</td>\n",
       "      <td>220.205</td>\n",
       "      <td>1.771353e+07</td>\n",
       "    </tr>\n",
       "  </tbody>\n",
       "</table>\n",
       "</div>"
      ],
      "text/plain": [
       "               Open     High      Low    Close        Volume\n",
       "Date                                                        \n",
       "2020-12-31  217.822  219.104  215.838  218.528  2.131555e+07\n",
       "2020-12-30  221.277  221.674  217.595  217.802  2.063381e+07\n",
       "2020-12-29  222.350  223.214  219.659  220.205  1.771353e+07"
      ]
     },
     "execution_count": 12,
     "metadata": {},
     "output_type": "execute_result"
    }
   ],
   "source": [
    "stocks = data.DataReader(name =\"MSFT\", data_source =\"stooq\", start = \"2010-01-01\", end = \"2020-12-31\")\n",
    "stocks.head(3)"
   ]
  },
  {
   "cell_type": "code",
   "execution_count": 13,
   "id": "5634622a",
   "metadata": {},
   "outputs": [
    {
     "data": {
      "text/plain": [
       "Open      2.408540e+01\n",
       "High      2.443890e+01\n",
       "Low       2.403580e+01\n",
       "Close     2.431780e+01\n",
       "Volume    4.886916e+07\n",
       "Name: 2010-01-04 00:00:00, dtype: float64"
      ]
     },
     "execution_count": 13,
     "metadata": {},
     "output_type": "execute_result"
    }
   ],
   "source": [
    "stocks.loc[\"2010-01-04\"]"
   ]
  },
  {
   "cell_type": "code",
   "execution_count": 14,
   "id": "38308e8f",
   "metadata": {},
   "outputs": [
    {
     "data": {
      "text/plain": [
       "Open      2.408540e+01\n",
       "High      2.443890e+01\n",
       "Low       2.403580e+01\n",
       "Close     2.431780e+01\n",
       "Volume    4.886916e+07\n",
       "Name: 2010-01-04 00:00:00, dtype: float64"
      ]
     },
     "execution_count": 14,
     "metadata": {},
     "output_type": "execute_result"
    }
   ],
   "source": [
    "stocks.loc[pd.Timestamp(\"2010-01-04\")]"
   ]
  },
  {
   "cell_type": "code",
   "execution_count": 17,
   "id": "d4136edf",
   "metadata": {},
   "outputs": [
    {
     "data": {
      "text/plain": [
       "Open      2.178220e+02\n",
       "High      2.191040e+02\n",
       "Low       2.158380e+02\n",
       "Close     2.185280e+02\n",
       "Volume    2.131555e+07\n",
       "Name: 2020-12-31 00:00:00, dtype: float64"
      ]
     },
     "execution_count": 17,
     "metadata": {},
     "output_type": "execute_result"
    }
   ],
   "source": [
    "stocks.iloc[0]"
   ]
  },
  {
   "cell_type": "code",
   "execution_count": 18,
   "id": "30dc9caf",
   "metadata": {},
   "outputs": [
    {
     "data": {
      "text/plain": [
       "Open      1.033970e+02\n",
       "High      1.034760e+02\n",
       "Low       9.690580e+01\n",
       "Close     9.761060e+01\n",
       "Volume    6.698606e+07\n",
       "Name: 2018-10-24 00:00:00, dtype: float64"
      ]
     },
     "execution_count": 18,
     "metadata": {},
     "output_type": "execute_result"
    }
   ],
   "source": [
    "stocks.iloc[550]"
   ]
  },
  {
   "cell_type": "code",
   "execution_count": 19,
   "id": "d65be825",
   "metadata": {},
   "outputs": [
    {
     "data": {
      "text/plain": [
       "Open      2.408540e+01\n",
       "High      2.443890e+01\n",
       "Low       2.403580e+01\n",
       "Close     2.431780e+01\n",
       "Volume    4.886916e+07\n",
       "Name: 2010-01-04 00:00:00, dtype: float64"
      ]
     },
     "execution_count": 19,
     "metadata": {},
     "output_type": "execute_result"
    }
   ],
   "source": [
    "stocks.iloc[-1]    #The last line"
   ]
  },
  {
   "cell_type": "code",
   "execution_count": 21,
   "id": "a7aa2112",
   "metadata": {},
   "outputs": [
    {
     "data": {
      "text/html": [
       "<div>\n",
       "<style scoped>\n",
       "    .dataframe tbody tr th:only-of-type {\n",
       "        vertical-align: middle;\n",
       "    }\n",
       "\n",
       "    .dataframe tbody tr th {\n",
       "        vertical-align: top;\n",
       "    }\n",
       "\n",
       "    .dataframe thead th {\n",
       "        text-align: right;\n",
       "    }\n",
       "</style>\n",
       "<table border=\"1\" class=\"dataframe\">\n",
       "  <thead>\n",
       "    <tr style=\"text-align: right;\">\n",
       "      <th></th>\n",
       "      <th>Open</th>\n",
       "      <th>High</th>\n",
       "      <th>Low</th>\n",
       "      <th>Close</th>\n",
       "      <th>Volume</th>\n",
       "    </tr>\n",
       "    <tr>\n",
       "      <th>Date</th>\n",
       "      <th></th>\n",
       "      <th></th>\n",
       "      <th></th>\n",
       "      <th></th>\n",
       "      <th></th>\n",
       "    </tr>\n",
       "  </thead>\n",
       "  <tbody>\n",
       "    <tr>\n",
       "      <th>2010-01-04</th>\n",
       "      <td>24.0854</td>\n",
       "      <td>24.4389</td>\n",
       "      <td>24.0358</td>\n",
       "      <td>24.3178</td>\n",
       "      <td>4.886916e+07</td>\n",
       "    </tr>\n",
       "    <tr>\n",
       "      <th>2010-01-05</th>\n",
       "      <td>24.2542</td>\n",
       "      <td>24.4389</td>\n",
       "      <td>24.0765</td>\n",
       "      <td>24.3267</td>\n",
       "      <td>6.331174e+07</td>\n",
       "    </tr>\n",
       "  </tbody>\n",
       "</table>\n",
       "</div>"
      ],
      "text/plain": [
       "               Open     High      Low    Close        Volume\n",
       "Date                                                        \n",
       "2010-01-04  24.0854  24.4389  24.0358  24.3178  4.886916e+07\n",
       "2010-01-05  24.2542  24.4389  24.0765  24.3267  6.331174e+07"
      ]
     },
     "execution_count": 21,
     "metadata": {},
     "output_type": "execute_result"
    }
   ],
   "source": [
    "stocks.loc[[pd.Timestamp(\"2010-01-04\"), pd.Timestamp(\"2010-01-05\")]]"
   ]
  },
  {
   "cell_type": "code",
   "execution_count": 22,
   "id": "8e5735c9",
   "metadata": {},
   "outputs": [
    {
     "data": {
      "text/html": [
       "<div>\n",
       "<style scoped>\n",
       "    .dataframe tbody tr th:only-of-type {\n",
       "        vertical-align: middle;\n",
       "    }\n",
       "\n",
       "    .dataframe tbody tr th {\n",
       "        vertical-align: top;\n",
       "    }\n",
       "\n",
       "    .dataframe thead th {\n",
       "        text-align: right;\n",
       "    }\n",
       "</style>\n",
       "<table border=\"1\" class=\"dataframe\">\n",
       "  <thead>\n",
       "    <tr style=\"text-align: right;\">\n",
       "      <th></th>\n",
       "      <th>Open</th>\n",
       "      <th>High</th>\n",
       "      <th>Low</th>\n",
       "      <th>Close</th>\n",
       "      <th>Volume</th>\n",
       "    </tr>\n",
       "    <tr>\n",
       "      <th>Date</th>\n",
       "      <th></th>\n",
       "      <th></th>\n",
       "      <th></th>\n",
       "      <th></th>\n",
       "      <th></th>\n",
       "    </tr>\n",
       "  </thead>\n",
       "  <tbody>\n",
       "    <tr>\n",
       "      <th>2020-12-16</th>\n",
       "      <td>210.992</td>\n",
       "      <td>216.245</td>\n",
       "      <td>210.962</td>\n",
       "      <td>215.440</td>\n",
       "      <td>3.564775e+07</td>\n",
       "    </tr>\n",
       "    <tr>\n",
       "      <th>2020-12-09</th>\n",
       "      <td>211.399</td>\n",
       "      <td>211.459</td>\n",
       "      <td>207.517</td>\n",
       "      <td>208.094</td>\n",
       "      <td>3.299802e+07</td>\n",
       "    </tr>\n",
       "    <tr>\n",
       "      <th>2020-11-17</th>\n",
       "      <td>211.756</td>\n",
       "      <td>213.316</td>\n",
       "      <td>209.771</td>\n",
       "      <td>210.149</td>\n",
       "      <td>2.464917e+07</td>\n",
       "    </tr>\n",
       "  </tbody>\n",
       "</table>\n",
       "</div>"
      ],
      "text/plain": [
       "               Open     High      Low    Close        Volume\n",
       "Date                                                        \n",
       "2020-12-16  210.992  216.245  210.962  215.440  3.564775e+07\n",
       "2020-12-09  211.399  211.459  207.517  208.094  3.299802e+07\n",
       "2020-11-17  211.756  213.316  209.771  210.149  2.464917e+07"
      ]
     },
     "execution_count": 22,
     "metadata": {},
     "output_type": "execute_result"
    }
   ],
   "source": [
    "stocks.iloc[[10, 15, 30]]"
   ]
  },
  {
   "cell_type": "code",
   "execution_count": 23,
   "id": "00c9f45e",
   "metadata": {},
   "outputs": [
    {
     "data": {
      "text/html": [
       "<div>\n",
       "<style scoped>\n",
       "    .dataframe tbody tr th:only-of-type {\n",
       "        vertical-align: middle;\n",
       "    }\n",
       "\n",
       "    .dataframe tbody tr th {\n",
       "        vertical-align: top;\n",
       "    }\n",
       "\n",
       "    .dataframe thead th {\n",
       "        text-align: right;\n",
       "    }\n",
       "</style>\n",
       "<table border=\"1\" class=\"dataframe\">\n",
       "  <thead>\n",
       "    <tr style=\"text-align: right;\">\n",
       "      <th></th>\n",
       "      <th>Open</th>\n",
       "      <th>High</th>\n",
       "      <th>Low</th>\n",
       "      <th>Close</th>\n",
       "      <th>Volume</th>\n",
       "    </tr>\n",
       "    <tr>\n",
       "      <th>Date</th>\n",
       "      <th></th>\n",
       "      <th></th>\n",
       "      <th></th>\n",
       "      <th></th>\n",
       "      <th></th>\n",
       "    </tr>\n",
       "  </thead>\n",
       "  <tbody>\n",
       "    <tr>\n",
       "      <th>2013-10-07</th>\n",
       "      <td>28.3306</td>\n",
       "      <td>28.4209</td>\n",
       "      <td>27.9940</td>\n",
       "      <td>28.0754</td>\n",
       "      <td>4.159240e+07</td>\n",
       "    </tr>\n",
       "    <tr>\n",
       "      <th>2013-10-04</th>\n",
       "      <td>28.4059</td>\n",
       "      <td>28.6601</td>\n",
       "      <td>28.3484</td>\n",
       "      <td>28.5668</td>\n",
       "      <td>3.913007e+07</td>\n",
       "    </tr>\n",
       "    <tr>\n",
       "      <th>2013-10-03</th>\n",
       "      <td>28.5668</td>\n",
       "      <td>28.6661</td>\n",
       "      <td>28.1747</td>\n",
       "      <td>28.5489</td>\n",
       "      <td>4.590812e+07</td>\n",
       "    </tr>\n",
       "    <tr>\n",
       "      <th>2013-10-02</th>\n",
       "      <td>28.1260</td>\n",
       "      <td>28.6928</td>\n",
       "      <td>28.0665</td>\n",
       "      <td>28.5976</td>\n",
       "      <td>5.566476e+07</td>\n",
       "    </tr>\n",
       "    <tr>\n",
       "      <th>2013-10-01</th>\n",
       "      <td>28.1102</td>\n",
       "      <td>28.3395</td>\n",
       "      <td>28.0754</td>\n",
       "      <td>28.3106</td>\n",
       "      <td>4.352740e+07</td>\n",
       "    </tr>\n",
       "  </tbody>\n",
       "</table>\n",
       "</div>"
      ],
      "text/plain": [
       "               Open     High      Low    Close        Volume\n",
       "Date                                                        \n",
       "2013-10-07  28.3306  28.4209  27.9940  28.0754  4.159240e+07\n",
       "2013-10-04  28.4059  28.6601  28.3484  28.5668  3.913007e+07\n",
       "2013-10-03  28.5668  28.6661  28.1747  28.5489  4.590812e+07\n",
       "2013-10-02  28.1260  28.6928  28.0665  28.5976  5.566476e+07\n",
       "2013-10-01  28.1102  28.3395  28.0754  28.3106  4.352740e+07"
      ]
     },
     "execution_count": 23,
     "metadata": {},
     "output_type": "execute_result"
    }
   ],
   "source": [
    "stocks.loc[\"2013-10-01\":\"2013-10-07\"]"
   ]
  },
  {
   "cell_type": "code",
   "execution_count": 24,
   "id": "0b33f486",
   "metadata": {},
   "outputs": [
    {
     "data": {
      "text/html": [
       "<div>\n",
       "<style scoped>\n",
       "    .dataframe tbody tr th:only-of-type {\n",
       "        vertical-align: middle;\n",
       "    }\n",
       "\n",
       "    .dataframe tbody tr th {\n",
       "        vertical-align: top;\n",
       "    }\n",
       "\n",
       "    .dataframe thead th {\n",
       "        text-align: right;\n",
       "    }\n",
       "</style>\n",
       "<table border=\"1\" class=\"dataframe\">\n",
       "  <thead>\n",
       "    <tr style=\"text-align: right;\">\n",
       "      <th></th>\n",
       "      <th>Open</th>\n",
       "      <th>High</th>\n",
       "      <th>Low</th>\n",
       "      <th>Close</th>\n",
       "      <th>Volume</th>\n",
       "    </tr>\n",
       "    <tr>\n",
       "      <th>Date</th>\n",
       "      <th></th>\n",
       "      <th></th>\n",
       "      <th></th>\n",
       "      <th></th>\n",
       "      <th></th>\n",
       "    </tr>\n",
       "  </thead>\n",
       "  <tbody>\n",
       "    <tr>\n",
       "      <th>2013-10-07</th>\n",
       "      <td>28.3306</td>\n",
       "      <td>28.4209</td>\n",
       "      <td>27.9940</td>\n",
       "      <td>28.0754</td>\n",
       "      <td>4.159240e+07</td>\n",
       "    </tr>\n",
       "    <tr>\n",
       "      <th>2013-10-04</th>\n",
       "      <td>28.4059</td>\n",
       "      <td>28.6601</td>\n",
       "      <td>28.3484</td>\n",
       "      <td>28.5668</td>\n",
       "      <td>3.913007e+07</td>\n",
       "    </tr>\n",
       "    <tr>\n",
       "      <th>2013-10-03</th>\n",
       "      <td>28.5668</td>\n",
       "      <td>28.6661</td>\n",
       "      <td>28.1747</td>\n",
       "      <td>28.5489</td>\n",
       "      <td>4.590812e+07</td>\n",
       "    </tr>\n",
       "    <tr>\n",
       "      <th>2013-10-02</th>\n",
       "      <td>28.1260</td>\n",
       "      <td>28.6928</td>\n",
       "      <td>28.0665</td>\n",
       "      <td>28.5976</td>\n",
       "      <td>5.566476e+07</td>\n",
       "    </tr>\n",
       "    <tr>\n",
       "      <th>2013-10-01</th>\n",
       "      <td>28.1102</td>\n",
       "      <td>28.3395</td>\n",
       "      <td>28.0754</td>\n",
       "      <td>28.3106</td>\n",
       "      <td>4.352740e+07</td>\n",
       "    </tr>\n",
       "  </tbody>\n",
       "</table>\n",
       "</div>"
      ],
      "text/plain": [
       "               Open     High      Low    Close        Volume\n",
       "Date                                                        \n",
       "2013-10-07  28.3306  28.4209  27.9940  28.0754  4.159240e+07\n",
       "2013-10-04  28.4059  28.6601  28.3484  28.5668  3.913007e+07\n",
       "2013-10-03  28.5668  28.6661  28.1747  28.5489  4.590812e+07\n",
       "2013-10-02  28.1260  28.6928  28.0665  28.5976  5.566476e+07\n",
       "2013-10-01  28.1102  28.3395  28.0754  28.3106  4.352740e+07"
      ]
     },
     "execution_count": 24,
     "metadata": {},
     "output_type": "execute_result"
    }
   ],
   "source": [
    "stocks.truncate(before = \"2013-10-01\", after =\"2013-10-07\")"
   ]
  },
  {
   "cell_type": "code",
   "execution_count": 25,
   "id": "4930bc25",
   "metadata": {},
   "outputs": [
    {
     "data": {
      "text/html": [
       "<div>\n",
       "<style scoped>\n",
       "    .dataframe tbody tr th:only-of-type {\n",
       "        vertical-align: middle;\n",
       "    }\n",
       "\n",
       "    .dataframe tbody tr th {\n",
       "        vertical-align: top;\n",
       "    }\n",
       "\n",
       "    .dataframe thead th {\n",
       "        text-align: right;\n",
       "    }\n",
       "</style>\n",
       "<table border=\"1\" class=\"dataframe\">\n",
       "  <thead>\n",
       "    <tr style=\"text-align: right;\">\n",
       "      <th></th>\n",
       "      <th>Open</th>\n",
       "      <th>High</th>\n",
       "      <th>Low</th>\n",
       "      <th>Close</th>\n",
       "      <th>Volume</th>\n",
       "    </tr>\n",
       "    <tr>\n",
       "      <th>Date</th>\n",
       "      <th></th>\n",
       "      <th></th>\n",
       "      <th></th>\n",
       "      <th></th>\n",
       "      <th></th>\n",
       "    </tr>\n",
       "  </thead>\n",
       "  <tbody>\n",
       "    <tr>\n",
       "      <th>2017-01-11</th>\n",
       "      <td>57.6727</td>\n",
       "      <td>58.2436</td>\n",
       "      <td>57.5069</td>\n",
       "      <td>58.2079</td>\n",
       "      <td>2.218117e+07</td>\n",
       "    </tr>\n",
       "    <tr>\n",
       "      <th>2017-01-10</th>\n",
       "      <td>57.7830</td>\n",
       "      <td>58.0976</td>\n",
       "      <td>57.3689</td>\n",
       "      <td>57.6816</td>\n",
       "      <td>1.849459e+07</td>\n",
       "    </tr>\n",
       "    <tr>\n",
       "      <th>2017-01-09</th>\n",
       "      <td>57.8097</td>\n",
       "      <td>58.1075</td>\n",
       "      <td>57.6073</td>\n",
       "      <td>57.7015</td>\n",
       "      <td>2.018532e+07</td>\n",
       "    </tr>\n",
       "    <tr>\n",
       "      <th>2017-01-06</th>\n",
       "      <td>57.3868</td>\n",
       "      <td>58.1701</td>\n",
       "      <td>57.1456</td>\n",
       "      <td>57.8842</td>\n",
       "      <td>1.907929e+07</td>\n",
       "    </tr>\n",
       "    <tr>\n",
       "      <th>2017-01-05</th>\n",
       "      <td>57.2856</td>\n",
       "      <td>57.7193</td>\n",
       "      <td>57.1357</td>\n",
       "      <td>57.3868</td>\n",
       "      <td>2.318354e+07</td>\n",
       "    </tr>\n",
       "  </tbody>\n",
       "</table>\n",
       "</div>"
      ],
      "text/plain": [
       "               Open     High      Low    Close        Volume\n",
       "Date                                                        \n",
       "2017-01-11  57.6727  58.2436  57.5069  58.2079  2.218117e+07\n",
       "2017-01-10  57.7830  58.0976  57.3689  57.6816  1.849459e+07\n",
       "2017-01-09  57.8097  58.1075  57.6073  57.7015  2.018532e+07\n",
       "2017-01-06  57.3868  58.1701  57.1456  57.8842  1.907929e+07\n",
       "2017-01-05  57.2856  57.7193  57.1357  57.3868  2.318354e+07"
      ]
     },
     "execution_count": 25,
     "metadata": {},
     "output_type": "execute_result"
    }
   ],
   "source": [
    "stocks.iloc[1000:1005]"
   ]
  },
  {
   "cell_type": "code",
   "execution_count": 26,
   "id": "ced06850",
   "metadata": {},
   "outputs": [
    {
     "data": {
      "text/plain": [
       "DatetimeIndex(['1978-11-14', '1979-11-14', '1980-11-14', '1981-11-14',\n",
       "               '1982-11-14', '1983-11-14', '1984-11-14', '1985-11-14',\n",
       "               '1986-11-14', '1987-11-14', '1988-11-14', '1989-11-14',\n",
       "               '1990-11-14', '1991-11-14', '1992-11-14', '1993-11-14',\n",
       "               '1994-11-14', '1995-11-14', '1996-11-14', '1997-11-14',\n",
       "               '1998-11-14', '1999-11-14', '2000-11-14', '2001-11-14',\n",
       "               '2002-11-14', '2003-11-14', '2004-11-14', '2005-11-14',\n",
       "               '2006-11-14', '2007-11-14', '2008-11-14', '2009-11-14',\n",
       "               '2010-11-14', '2011-11-14', '2012-11-14', '2013-11-14',\n",
       "               '2014-11-14', '2015-11-14', '2016-11-14', '2017-11-14',\n",
       "               '2018-11-14', '2019-11-14', '2020-11-14', '2021-11-14',\n",
       "               '2022-11-14'],\n",
       "              dtype='datetime64[ns]', freq='<DateOffset: years=1>')"
      ]
     },
     "execution_count": 26,
     "metadata": {},
     "output_type": "execute_result"
    }
   ],
   "source": [
    "pd.date_range(start = \"1978-11-14\", end = \"2023-09-06\", freq = pd.DateOffset(years = 1))"
   ]
  },
  {
   "cell_type": "code",
   "execution_count": 27,
   "id": "3a860b1b",
   "metadata": {},
   "outputs": [],
   "source": [
    "birthdays = pd.date_range(start = \"1978-11-14\", end = \"2023-09-06\", freq = pd.DateOffset(years = 1))"
   ]
  },
  {
   "cell_type": "code",
   "execution_count": 28,
   "id": "4b46c4ae",
   "metadata": {},
   "outputs": [
    {
     "data": {
      "text/plain": [
       "array([False, False, False, ..., False, False, False])"
      ]
     },
     "execution_count": 28,
     "metadata": {},
     "output_type": "execute_result"
    }
   ],
   "source": [
    "stocks.index.isin(birthdays)"
   ]
  },
  {
   "cell_type": "code",
   "execution_count": 29,
   "id": "f37c9343",
   "metadata": {},
   "outputs": [],
   "source": [
    "birthday_stocks = stocks.index.isin(birthdays)"
   ]
  },
  {
   "cell_type": "code",
   "execution_count": 31,
   "id": "9363b605",
   "metadata": {},
   "outputs": [
    {
     "data": {
      "text/html": [
       "<div>\n",
       "<style scoped>\n",
       "    .dataframe tbody tr th:only-of-type {\n",
       "        vertical-align: middle;\n",
       "    }\n",
       "\n",
       "    .dataframe tbody tr th {\n",
       "        vertical-align: top;\n",
       "    }\n",
       "\n",
       "    .dataframe thead th {\n",
       "        text-align: right;\n",
       "    }\n",
       "</style>\n",
       "<table border=\"1\" class=\"dataframe\">\n",
       "  <thead>\n",
       "    <tr style=\"text-align: right;\">\n",
       "      <th></th>\n",
       "      <th>Open</th>\n",
       "      <th>High</th>\n",
       "      <th>Low</th>\n",
       "      <th>Close</th>\n",
       "      <th>Volume</th>\n",
       "    </tr>\n",
       "    <tr>\n",
       "      <th>Date</th>\n",
       "      <th></th>\n",
       "      <th></th>\n",
       "      <th></th>\n",
       "      <th></th>\n",
       "      <th></th>\n",
       "    </tr>\n",
       "  </thead>\n",
       "  <tbody>\n",
       "    <tr>\n",
       "      <th>2019-11-14</th>\n",
       "      <td>142.4430</td>\n",
       "      <td>143.7920</td>\n",
       "      <td>142.4230</td>\n",
       "      <td>143.4550</td>\n",
       "      <td>2.038951e+07</td>\n",
       "    </tr>\n",
       "    <tr>\n",
       "      <th>2018-11-14</th>\n",
       "      <td>103.5460</td>\n",
       "      <td>103.7040</td>\n",
       "      <td>100.1010</td>\n",
       "      <td>100.5380</td>\n",
       "      <td>4.122592e+07</td>\n",
       "    </tr>\n",
       "    <tr>\n",
       "      <th>2017-11-14</th>\n",
       "      <td>78.2419</td>\n",
       "      <td>78.8028</td>\n",
       "      <td>77.7504</td>\n",
       "      <td>78.7562</td>\n",
       "      <td>2.002665e+07</td>\n",
       "    </tr>\n",
       "    <tr>\n",
       "      <th>2016-11-14</th>\n",
       "      <td>54.0015</td>\n",
       "      <td>54.0581</td>\n",
       "      <td>52.4110</td>\n",
       "      <td>53.1764</td>\n",
       "      <td>4.516936e+07</td>\n",
       "    </tr>\n",
       "    <tr>\n",
       "      <th>2014-11-14</th>\n",
       "      <td>43.1406</td>\n",
       "      <td>43.3997</td>\n",
       "      <td>42.8378</td>\n",
       "      <td>43.0007</td>\n",
       "      <td>3.353072e+07</td>\n",
       "    </tr>\n",
       "    <tr>\n",
       "      <th>2013-11-14</th>\n",
       "      <td>31.9691</td>\n",
       "      <td>32.1478</td>\n",
       "      <td>31.8033</td>\n",
       "      <td>32.0575</td>\n",
       "      <td>5.477972e+07</td>\n",
       "    </tr>\n",
       "    <tr>\n",
       "      <th>2012-11-14</th>\n",
       "      <td>22.4593</td>\n",
       "      <td>22.5010</td>\n",
       "      <td>22.0940</td>\n",
       "      <td>22.1317</td>\n",
       "      <td>9.227941e+07</td>\n",
       "    </tr>\n",
       "    <tr>\n",
       "      <th>2011-11-14</th>\n",
       "      <td>21.3851</td>\n",
       "      <td>21.4904</td>\n",
       "      <td>21.2095</td>\n",
       "      <td>21.2979</td>\n",
       "      <td>4.292899e+07</td>\n",
       "    </tr>\n",
       "  </tbody>\n",
       "</table>\n",
       "</div>"
      ],
      "text/plain": [
       "                Open      High       Low     Close        Volume\n",
       "Date                                                            \n",
       "2019-11-14  142.4430  143.7920  142.4230  143.4550  2.038951e+07\n",
       "2018-11-14  103.5460  103.7040  100.1010  100.5380  4.122592e+07\n",
       "2017-11-14   78.2419   78.8028   77.7504   78.7562  2.002665e+07\n",
       "2016-11-14   54.0015   54.0581   52.4110   53.1764  4.516936e+07\n",
       "2014-11-14   43.1406   43.3997   42.8378   43.0007  3.353072e+07\n",
       "2013-11-14   31.9691   32.1478   31.8033   32.0575  5.477972e+07\n",
       "2012-11-14   22.4593   22.5010   22.0940   22.1317  9.227941e+07\n",
       "2011-11-14   21.3851   21.4904   21.2095   21.2979  4.292899e+07"
      ]
     },
     "execution_count": 31,
     "metadata": {},
     "output_type": "execute_result"
    }
   ],
   "source": [
    "stocks[birthday_stocks]"
   ]
  },
  {
   "cell_type": "code",
   "execution_count": 33,
   "id": "f4f26dd7",
   "metadata": {},
   "outputs": [
    {
     "data": {
      "text/html": [
       "<div>\n",
       "<style scoped>\n",
       "    .dataframe tbody tr th:only-of-type {\n",
       "        vertical-align: middle;\n",
       "    }\n",
       "\n",
       "    .dataframe tbody tr th {\n",
       "        vertical-align: top;\n",
       "    }\n",
       "\n",
       "    .dataframe thead th {\n",
       "        text-align: right;\n",
       "    }\n",
       "</style>\n",
       "<table border=\"1\" class=\"dataframe\">\n",
       "  <thead>\n",
       "    <tr style=\"text-align: right;\">\n",
       "      <th></th>\n",
       "      <th>Open</th>\n",
       "      <th>High</th>\n",
       "      <th>Low</th>\n",
       "      <th>Close</th>\n",
       "      <th>Volume</th>\n",
       "    </tr>\n",
       "    <tr>\n",
       "      <th>Date</th>\n",
       "      <th></th>\n",
       "      <th></th>\n",
       "      <th></th>\n",
       "      <th></th>\n",
       "      <th></th>\n",
       "    </tr>\n",
       "  </thead>\n",
       "  <tbody>\n",
       "    <tr>\n",
       "      <th>2019-11-14</th>\n",
       "      <td>142.4430</td>\n",
       "      <td>143.7920</td>\n",
       "      <td>142.4230</td>\n",
       "      <td>143.4550</td>\n",
       "      <td>2.038951e+07</td>\n",
       "    </tr>\n",
       "    <tr>\n",
       "      <th>2018-11-14</th>\n",
       "      <td>103.5460</td>\n",
       "      <td>103.7040</td>\n",
       "      <td>100.1010</td>\n",
       "      <td>100.5380</td>\n",
       "      <td>4.122592e+07</td>\n",
       "    </tr>\n",
       "    <tr>\n",
       "      <th>2017-11-14</th>\n",
       "      <td>78.2419</td>\n",
       "      <td>78.8028</td>\n",
       "      <td>77.7504</td>\n",
       "      <td>78.7562</td>\n",
       "      <td>2.002665e+07</td>\n",
       "    </tr>\n",
       "    <tr>\n",
       "      <th>2016-11-14</th>\n",
       "      <td>54.0015</td>\n",
       "      <td>54.0581</td>\n",
       "      <td>52.4110</td>\n",
       "      <td>53.1764</td>\n",
       "      <td>4.516936e+07</td>\n",
       "    </tr>\n",
       "    <tr>\n",
       "      <th>2014-11-14</th>\n",
       "      <td>43.1406</td>\n",
       "      <td>43.3997</td>\n",
       "      <td>42.8378</td>\n",
       "      <td>43.0007</td>\n",
       "      <td>3.353072e+07</td>\n",
       "    </tr>\n",
       "    <tr>\n",
       "      <th>2013-11-14</th>\n",
       "      <td>31.9691</td>\n",
       "      <td>32.1478</td>\n",
       "      <td>31.8033</td>\n",
       "      <td>32.0575</td>\n",
       "      <td>5.477972e+07</td>\n",
       "    </tr>\n",
       "    <tr>\n",
       "      <th>2012-11-14</th>\n",
       "      <td>22.4593</td>\n",
       "      <td>22.5010</td>\n",
       "      <td>22.0940</td>\n",
       "      <td>22.1317</td>\n",
       "      <td>9.227941e+07</td>\n",
       "    </tr>\n",
       "    <tr>\n",
       "      <th>2011-11-14</th>\n",
       "      <td>21.3851</td>\n",
       "      <td>21.4904</td>\n",
       "      <td>21.2095</td>\n",
       "      <td>21.2979</td>\n",
       "      <td>4.292899e+07</td>\n",
       "    </tr>\n",
       "  </tbody>\n",
       "</table>\n",
       "</div>"
      ],
      "text/plain": [
       "                Open      High       Low     Close        Volume\n",
       "Date                                                            \n",
       "2019-11-14  142.4430  143.7920  142.4230  143.4550  2.038951e+07\n",
       "2018-11-14  103.5460  103.7040  100.1010  100.5380  4.122592e+07\n",
       "2017-11-14   78.2419   78.8028   77.7504   78.7562  2.002665e+07\n",
       "2016-11-14   54.0015   54.0581   52.4110   53.1764  4.516936e+07\n",
       "2014-11-14   43.1406   43.3997   42.8378   43.0007  3.353072e+07\n",
       "2013-11-14   31.9691   32.1478   31.8033   32.0575  5.477972e+07\n",
       "2012-11-14   22.4593   22.5010   22.0940   22.1317  9.227941e+07\n",
       "2011-11-14   21.3851   21.4904   21.2095   21.2979  4.292899e+07"
      ]
     },
     "execution_count": 33,
     "metadata": {},
     "output_type": "execute_result"
    }
   ],
   "source": [
    "stocks.loc[birthday_stocks]"
   ]
  },
  {
   "cell_type": "markdown",
   "id": "a5e2de4f",
   "metadata": {},
   "source": [
    "# Timestamp Object Attributes and Methods"
   ]
  },
  {
   "cell_type": "code",
   "execution_count": 35,
   "id": "5e6514f3",
   "metadata": {},
   "outputs": [],
   "source": [
    "import pandas as pd\n",
    "import datetime as dt\n",
    "from pandas_datareader import data"
   ]
  },
  {
   "cell_type": "code",
   "execution_count": 36,
   "id": "ca7e302c",
   "metadata": {},
   "outputs": [
    {
     "data": {
      "text/html": [
       "<div>\n",
       "<style scoped>\n",
       "    .dataframe tbody tr th:only-of-type {\n",
       "        vertical-align: middle;\n",
       "    }\n",
       "\n",
       "    .dataframe tbody tr th {\n",
       "        vertical-align: top;\n",
       "    }\n",
       "\n",
       "    .dataframe thead th {\n",
       "        text-align: right;\n",
       "    }\n",
       "</style>\n",
       "<table border=\"1\" class=\"dataframe\">\n",
       "  <thead>\n",
       "    <tr style=\"text-align: right;\">\n",
       "      <th></th>\n",
       "      <th>Open</th>\n",
       "      <th>High</th>\n",
       "      <th>Low</th>\n",
       "      <th>Close</th>\n",
       "      <th>Volume</th>\n",
       "    </tr>\n",
       "    <tr>\n",
       "      <th>Date</th>\n",
       "      <th></th>\n",
       "      <th></th>\n",
       "      <th></th>\n",
       "      <th></th>\n",
       "      <th></th>\n",
       "    </tr>\n",
       "  </thead>\n",
       "  <tbody>\n",
       "    <tr>\n",
       "      <th>2020-12-31</th>\n",
       "      <td>217.822</td>\n",
       "      <td>219.104</td>\n",
       "      <td>215.838</td>\n",
       "      <td>218.528</td>\n",
       "      <td>2.131555e+07</td>\n",
       "    </tr>\n",
       "    <tr>\n",
       "      <th>2020-12-30</th>\n",
       "      <td>221.277</td>\n",
       "      <td>221.674</td>\n",
       "      <td>217.595</td>\n",
       "      <td>217.802</td>\n",
       "      <td>2.063381e+07</td>\n",
       "    </tr>\n",
       "    <tr>\n",
       "      <th>2020-12-29</th>\n",
       "      <td>222.350</td>\n",
       "      <td>223.214</td>\n",
       "      <td>219.659</td>\n",
       "      <td>220.205</td>\n",
       "      <td>1.771353e+07</td>\n",
       "    </tr>\n",
       "  </tbody>\n",
       "</table>\n",
       "</div>"
      ],
      "text/plain": [
       "               Open     High      Low    Close        Volume\n",
       "Date                                                        \n",
       "2020-12-31  217.822  219.104  215.838  218.528  2.131555e+07\n",
       "2020-12-30  221.277  221.674  217.595  217.802  2.063381e+07\n",
       "2020-12-29  222.350  223.214  219.659  220.205  1.771353e+07"
      ]
     },
     "execution_count": 36,
     "metadata": {},
     "output_type": "execute_result"
    }
   ],
   "source": [
    "stocks = data.DataReader(name =\"MSFT\", data_source =\"stooq\", start = \"2010-01-01\", end = \"2020-12-31\")\n",
    "stocks.head(3)"
   ]
  },
  {
   "cell_type": "code",
   "execution_count": 37,
   "id": "b530c642",
   "metadata": {},
   "outputs": [
    {
     "data": {
      "text/plain": [
       "DatetimeIndex(['2020-12-31', '2020-12-30', '2020-12-29', '2020-12-28',\n",
       "               '2020-12-24', '2020-12-23', '2020-12-22', '2020-12-21',\n",
       "               '2020-12-18', '2020-12-17',\n",
       "               ...\n",
       "               '2010-01-15', '2010-01-14', '2010-01-13', '2010-01-12',\n",
       "               '2010-01-11', '2010-01-08', '2010-01-07', '2010-01-06',\n",
       "               '2010-01-05', '2010-01-04'],\n",
       "              dtype='datetime64[ns]', name='Date', length=2769, freq=None)"
      ]
     },
     "execution_count": 37,
     "metadata": {},
     "output_type": "execute_result"
    }
   ],
   "source": [
    "stocks.index"
   ]
  },
  {
   "cell_type": "code",
   "execution_count": 39,
   "id": "1c444d61",
   "metadata": {},
   "outputs": [
    {
     "data": {
      "text/plain": [
       "Timestamp('2019-01-08 00:00:00')"
      ]
     },
     "execution_count": 39,
     "metadata": {},
     "output_type": "execute_result"
    }
   ],
   "source": [
    "someday = stocks.index[500]\n",
    "someday"
   ]
  },
  {
   "cell_type": "code",
   "execution_count": 40,
   "id": "6fd2ece9",
   "metadata": {},
   "outputs": [
    {
     "data": {
      "text/plain": [
       "1"
      ]
     },
     "execution_count": 40,
     "metadata": {},
     "output_type": "execute_result"
    }
   ],
   "source": [
    "someday.month"
   ]
  },
  {
   "cell_type": "code",
   "execution_count": 41,
   "id": "3d177b74",
   "metadata": {},
   "outputs": [
    {
     "data": {
      "text/plain": [
       "2"
      ]
     },
     "execution_count": 41,
     "metadata": {},
     "output_type": "execute_result"
    }
   ],
   "source": [
    "someday.week"
   ]
  },
  {
   "cell_type": "code",
   "execution_count": 43,
   "id": "79899a97",
   "metadata": {},
   "outputs": [
    {
     "data": {
      "text/plain": [
       "False"
      ]
     },
     "execution_count": 43,
     "metadata": {},
     "output_type": "execute_result"
    }
   ],
   "source": [
    "someday.is_month_start"
   ]
  },
  {
   "cell_type": "code",
   "execution_count": 44,
   "id": "1bccc5a7",
   "metadata": {},
   "outputs": [
    {
     "data": {
      "text/plain": [
       "False"
      ]
     },
     "execution_count": 44,
     "metadata": {},
     "output_type": "execute_result"
    }
   ],
   "source": [
    "someday.is_month_end"
   ]
  },
  {
   "cell_type": "code",
   "execution_count": 45,
   "id": "8d3d3b70",
   "metadata": {},
   "outputs": [
    {
     "data": {
      "text/plain": [
       "False"
      ]
     },
     "execution_count": 45,
     "metadata": {},
     "output_type": "execute_result"
    }
   ],
   "source": [
    "someday.is_quarter_start"
   ]
  },
  {
   "cell_type": "code",
   "execution_count": 46,
   "id": "7903ad1c",
   "metadata": {},
   "outputs": [
    {
     "data": {
      "text/plain": [
       "False"
      ]
     },
     "execution_count": 46,
     "metadata": {},
     "output_type": "execute_result"
    }
   ],
   "source": [
    "someday.is_quarter_end"
   ]
  },
  {
   "cell_type": "code",
   "execution_count": 47,
   "id": "e4155f54",
   "metadata": {},
   "outputs": [
    {
     "data": {
      "text/plain": [
       "8"
      ]
     },
     "execution_count": 47,
     "metadata": {},
     "output_type": "execute_result"
    }
   ],
   "source": [
    "someday.day"
   ]
  },
  {
   "cell_type": "code",
   "execution_count": 48,
   "id": "e9e2d991",
   "metadata": {},
   "outputs": [
    {
     "data": {
      "text/plain": [
       "'January'"
      ]
     },
     "execution_count": 48,
     "metadata": {},
     "output_type": "execute_result"
    }
   ],
   "source": [
    "someday.month_name()"
   ]
  },
  {
   "cell_type": "code",
   "execution_count": 49,
   "id": "0f0451c8",
   "metadata": {},
   "outputs": [
    {
     "data": {
      "text/plain": [
       "Index(['Thursday', 'Wednesday', 'Tuesday', 'Monday', 'Thursday', 'Wednesday',\n",
       "       'Tuesday', 'Monday', 'Friday', 'Thursday',\n",
       "       ...\n",
       "       'Friday', 'Thursday', 'Wednesday', 'Tuesday', 'Monday', 'Friday',\n",
       "       'Thursday', 'Wednesday', 'Tuesday', 'Monday'],\n",
       "      dtype='object', name='Date', length=2769)"
      ]
     },
     "execution_count": 49,
     "metadata": {},
     "output_type": "execute_result"
    }
   ],
   "source": [
    "stocks.index.day_name()"
   ]
  },
  {
   "cell_type": "code",
   "execution_count": 52,
   "id": "2cb4d937",
   "metadata": {},
   "outputs": [
    {
     "data": {
      "text/html": [
       "<div>\n",
       "<style scoped>\n",
       "    .dataframe tbody tr th:only-of-type {\n",
       "        vertical-align: middle;\n",
       "    }\n",
       "\n",
       "    .dataframe tbody tr th {\n",
       "        vertical-align: top;\n",
       "    }\n",
       "\n",
       "    .dataframe thead th {\n",
       "        text-align: right;\n",
       "    }\n",
       "</style>\n",
       "<table border=\"1\" class=\"dataframe\">\n",
       "  <thead>\n",
       "    <tr style=\"text-align: right;\">\n",
       "      <th></th>\n",
       "      <th>Days of Week</th>\n",
       "      <th>Day of Week</th>\n",
       "      <th>Open</th>\n",
       "      <th>High</th>\n",
       "      <th>Low</th>\n",
       "      <th>Close</th>\n",
       "      <th>Volume</th>\n",
       "    </tr>\n",
       "    <tr>\n",
       "      <th>Date</th>\n",
       "      <th></th>\n",
       "      <th></th>\n",
       "      <th></th>\n",
       "      <th></th>\n",
       "      <th></th>\n",
       "      <th></th>\n",
       "      <th></th>\n",
       "    </tr>\n",
       "  </thead>\n",
       "  <tbody>\n",
       "    <tr>\n",
       "      <th>2020-12-31</th>\n",
       "      <td>Thursday</td>\n",
       "      <td>Thursday</td>\n",
       "      <td>217.8220</td>\n",
       "      <td>219.1040</td>\n",
       "      <td>215.8380</td>\n",
       "      <td>218.5280</td>\n",
       "      <td>2.131555e+07</td>\n",
       "    </tr>\n",
       "    <tr>\n",
       "      <th>2020-12-30</th>\n",
       "      <td>Wednesday</td>\n",
       "      <td>Wednesday</td>\n",
       "      <td>221.2770</td>\n",
       "      <td>221.6740</td>\n",
       "      <td>217.5950</td>\n",
       "      <td>217.8020</td>\n",
       "      <td>2.063381e+07</td>\n",
       "    </tr>\n",
       "    <tr>\n",
       "      <th>2020-12-29</th>\n",
       "      <td>Tuesday</td>\n",
       "      <td>Tuesday</td>\n",
       "      <td>222.3500</td>\n",
       "      <td>223.2140</td>\n",
       "      <td>219.6590</td>\n",
       "      <td>220.2050</td>\n",
       "      <td>1.771353e+07</td>\n",
       "    </tr>\n",
       "    <tr>\n",
       "      <th>2020-12-28</th>\n",
       "      <td>Monday</td>\n",
       "      <td>Monday</td>\n",
       "      <td>220.5040</td>\n",
       "      <td>222.0710</td>\n",
       "      <td>219.1230</td>\n",
       "      <td>221.0100</td>\n",
       "      <td>1.825327e+07</td>\n",
       "    </tr>\n",
       "    <tr>\n",
       "      <th>2020-12-24</th>\n",
       "      <td>Thursday</td>\n",
       "      <td>Thursday</td>\n",
       "      <td>217.5450</td>\n",
       "      <td>219.6890</td>\n",
       "      <td>217.3260</td>\n",
       "      <td>218.8550</td>\n",
       "      <td>1.073870e+07</td>\n",
       "    </tr>\n",
       "    <tr>\n",
       "      <th>...</th>\n",
       "      <td>...</td>\n",
       "      <td>...</td>\n",
       "      <td>...</td>\n",
       "      <td>...</td>\n",
       "      <td>...</td>\n",
       "      <td>...</td>\n",
       "      <td>...</td>\n",
       "    </tr>\n",
       "    <tr>\n",
       "      <th>2010-01-08</th>\n",
       "      <td>Friday</td>\n",
       "      <td>Friday</td>\n",
       "      <td>23.7837</td>\n",
       "      <td>24.2642</td>\n",
       "      <td>23.7608</td>\n",
       "      <td>24.0934</td>\n",
       "      <td>6.515561e+07</td>\n",
       "    </tr>\n",
       "    <tr>\n",
       "      <th>2010-01-07</th>\n",
       "      <td>Thursday</td>\n",
       "      <td>Thursday</td>\n",
       "      <td>24.0537</td>\n",
       "      <td>24.1232</td>\n",
       "      <td>23.7221</td>\n",
       "      <td>23.9257</td>\n",
       "      <td>6.434577e+07</td>\n",
       "    </tr>\n",
       "    <tr>\n",
       "      <th>2010-01-06</th>\n",
       "      <td>Wednesday</td>\n",
       "      <td>Wednesday</td>\n",
       "      <td>24.2642</td>\n",
       "      <td>24.4230</td>\n",
       "      <td>23.9852</td>\n",
       "      <td>24.1758</td>\n",
       "      <td>7.403254e+07</td>\n",
       "    </tr>\n",
       "    <tr>\n",
       "      <th>2010-01-05</th>\n",
       "      <td>Tuesday</td>\n",
       "      <td>Tuesday</td>\n",
       "      <td>24.2542</td>\n",
       "      <td>24.4389</td>\n",
       "      <td>24.0765</td>\n",
       "      <td>24.3267</td>\n",
       "      <td>6.331174e+07</td>\n",
       "    </tr>\n",
       "    <tr>\n",
       "      <th>2010-01-04</th>\n",
       "      <td>Monday</td>\n",
       "      <td>Monday</td>\n",
       "      <td>24.0854</td>\n",
       "      <td>24.4389</td>\n",
       "      <td>24.0358</td>\n",
       "      <td>24.3178</td>\n",
       "      <td>4.886916e+07</td>\n",
       "    </tr>\n",
       "  </tbody>\n",
       "</table>\n",
       "<p>2769 rows × 7 columns</p>\n",
       "</div>"
      ],
      "text/plain": [
       "           Days of Week Day of Week      Open      High       Low     Close  \\\n",
       "Date                                                                          \n",
       "2020-12-31     Thursday    Thursday  217.8220  219.1040  215.8380  218.5280   \n",
       "2020-12-30    Wednesday   Wednesday  221.2770  221.6740  217.5950  217.8020   \n",
       "2020-12-29      Tuesday     Tuesday  222.3500  223.2140  219.6590  220.2050   \n",
       "2020-12-28       Monday      Monday  220.5040  222.0710  219.1230  221.0100   \n",
       "2020-12-24     Thursday    Thursday  217.5450  219.6890  217.3260  218.8550   \n",
       "...                 ...         ...       ...       ...       ...       ...   \n",
       "2010-01-08       Friday      Friday   23.7837   24.2642   23.7608   24.0934   \n",
       "2010-01-07     Thursday    Thursday   24.0537   24.1232   23.7221   23.9257   \n",
       "2010-01-06    Wednesday   Wednesday   24.2642   24.4230   23.9852   24.1758   \n",
       "2010-01-05      Tuesday     Tuesday   24.2542   24.4389   24.0765   24.3267   \n",
       "2010-01-04       Monday      Monday   24.0854   24.4389   24.0358   24.3178   \n",
       "\n",
       "                  Volume  \n",
       "Date                      \n",
       "2020-12-31  2.131555e+07  \n",
       "2020-12-30  2.063381e+07  \n",
       "2020-12-29  1.771353e+07  \n",
       "2020-12-28  1.825327e+07  \n",
       "2020-12-24  1.073870e+07  \n",
       "...                  ...  \n",
       "2010-01-08  6.515561e+07  \n",
       "2010-01-07  6.434577e+07  \n",
       "2010-01-06  7.403254e+07  \n",
       "2010-01-05  6.331174e+07  \n",
       "2010-01-04  4.886916e+07  \n",
       "\n",
       "[2769 rows x 7 columns]"
      ]
     },
     "execution_count": 52,
     "metadata": {},
     "output_type": "execute_result"
    }
   ],
   "source": [
    "stocks.insert(0, \"Days of Week\", stocks.index.day_name())\n",
    "stocks"
   ]
  },
  {
   "cell_type": "code",
   "execution_count": 53,
   "id": "0714a6ea",
   "metadata": {},
   "outputs": [
    {
     "data": {
      "text/plain": [
       "array([False, False, False, ..., False, False, False])"
      ]
     },
     "execution_count": 53,
     "metadata": {},
     "output_type": "execute_result"
    }
   ],
   "source": [
    "stocks.index.is_month_start"
   ]
  },
  {
   "cell_type": "code",
   "execution_count": 54,
   "id": "01fa5e12",
   "metadata": {},
   "outputs": [
    {
     "data": {
      "text/html": [
       "<div>\n",
       "<style scoped>\n",
       "    .dataframe tbody tr th:only-of-type {\n",
       "        vertical-align: middle;\n",
       "    }\n",
       "\n",
       "    .dataframe tbody tr th {\n",
       "        vertical-align: top;\n",
       "    }\n",
       "\n",
       "    .dataframe thead th {\n",
       "        text-align: right;\n",
       "    }\n",
       "</style>\n",
       "<table border=\"1\" class=\"dataframe\">\n",
       "  <thead>\n",
       "    <tr style=\"text-align: right;\">\n",
       "      <th></th>\n",
       "      <th>Days of Week</th>\n",
       "      <th>Is Start of Month</th>\n",
       "      <th>Day of Week</th>\n",
       "      <th>Open</th>\n",
       "      <th>High</th>\n",
       "      <th>Low</th>\n",
       "      <th>Close</th>\n",
       "      <th>Volume</th>\n",
       "    </tr>\n",
       "    <tr>\n",
       "      <th>Date</th>\n",
       "      <th></th>\n",
       "      <th></th>\n",
       "      <th></th>\n",
       "      <th></th>\n",
       "      <th></th>\n",
       "      <th></th>\n",
       "      <th></th>\n",
       "      <th></th>\n",
       "    </tr>\n",
       "  </thead>\n",
       "  <tbody>\n",
       "    <tr>\n",
       "      <th>2020-12-31</th>\n",
       "      <td>Thursday</td>\n",
       "      <td>False</td>\n",
       "      <td>Thursday</td>\n",
       "      <td>217.8220</td>\n",
       "      <td>219.1040</td>\n",
       "      <td>215.8380</td>\n",
       "      <td>218.5280</td>\n",
       "      <td>2.131555e+07</td>\n",
       "    </tr>\n",
       "    <tr>\n",
       "      <th>2020-12-30</th>\n",
       "      <td>Wednesday</td>\n",
       "      <td>False</td>\n",
       "      <td>Wednesday</td>\n",
       "      <td>221.2770</td>\n",
       "      <td>221.6740</td>\n",
       "      <td>217.5950</td>\n",
       "      <td>217.8020</td>\n",
       "      <td>2.063381e+07</td>\n",
       "    </tr>\n",
       "    <tr>\n",
       "      <th>2020-12-29</th>\n",
       "      <td>Tuesday</td>\n",
       "      <td>False</td>\n",
       "      <td>Tuesday</td>\n",
       "      <td>222.3500</td>\n",
       "      <td>223.2140</td>\n",
       "      <td>219.6590</td>\n",
       "      <td>220.2050</td>\n",
       "      <td>1.771353e+07</td>\n",
       "    </tr>\n",
       "    <tr>\n",
       "      <th>2020-12-28</th>\n",
       "      <td>Monday</td>\n",
       "      <td>False</td>\n",
       "      <td>Monday</td>\n",
       "      <td>220.5040</td>\n",
       "      <td>222.0710</td>\n",
       "      <td>219.1230</td>\n",
       "      <td>221.0100</td>\n",
       "      <td>1.825327e+07</td>\n",
       "    </tr>\n",
       "    <tr>\n",
       "      <th>2020-12-24</th>\n",
       "      <td>Thursday</td>\n",
       "      <td>False</td>\n",
       "      <td>Thursday</td>\n",
       "      <td>217.5450</td>\n",
       "      <td>219.6890</td>\n",
       "      <td>217.3260</td>\n",
       "      <td>218.8550</td>\n",
       "      <td>1.073870e+07</td>\n",
       "    </tr>\n",
       "    <tr>\n",
       "      <th>...</th>\n",
       "      <td>...</td>\n",
       "      <td>...</td>\n",
       "      <td>...</td>\n",
       "      <td>...</td>\n",
       "      <td>...</td>\n",
       "      <td>...</td>\n",
       "      <td>...</td>\n",
       "      <td>...</td>\n",
       "    </tr>\n",
       "    <tr>\n",
       "      <th>2010-01-08</th>\n",
       "      <td>Friday</td>\n",
       "      <td>False</td>\n",
       "      <td>Friday</td>\n",
       "      <td>23.7837</td>\n",
       "      <td>24.2642</td>\n",
       "      <td>23.7608</td>\n",
       "      <td>24.0934</td>\n",
       "      <td>6.515561e+07</td>\n",
       "    </tr>\n",
       "    <tr>\n",
       "      <th>2010-01-07</th>\n",
       "      <td>Thursday</td>\n",
       "      <td>False</td>\n",
       "      <td>Thursday</td>\n",
       "      <td>24.0537</td>\n",
       "      <td>24.1232</td>\n",
       "      <td>23.7221</td>\n",
       "      <td>23.9257</td>\n",
       "      <td>6.434577e+07</td>\n",
       "    </tr>\n",
       "    <tr>\n",
       "      <th>2010-01-06</th>\n",
       "      <td>Wednesday</td>\n",
       "      <td>False</td>\n",
       "      <td>Wednesday</td>\n",
       "      <td>24.2642</td>\n",
       "      <td>24.4230</td>\n",
       "      <td>23.9852</td>\n",
       "      <td>24.1758</td>\n",
       "      <td>7.403254e+07</td>\n",
       "    </tr>\n",
       "    <tr>\n",
       "      <th>2010-01-05</th>\n",
       "      <td>Tuesday</td>\n",
       "      <td>False</td>\n",
       "      <td>Tuesday</td>\n",
       "      <td>24.2542</td>\n",
       "      <td>24.4389</td>\n",
       "      <td>24.0765</td>\n",
       "      <td>24.3267</td>\n",
       "      <td>6.331174e+07</td>\n",
       "    </tr>\n",
       "    <tr>\n",
       "      <th>2010-01-04</th>\n",
       "      <td>Monday</td>\n",
       "      <td>False</td>\n",
       "      <td>Monday</td>\n",
       "      <td>24.0854</td>\n",
       "      <td>24.4389</td>\n",
       "      <td>24.0358</td>\n",
       "      <td>24.3178</td>\n",
       "      <td>4.886916e+07</td>\n",
       "    </tr>\n",
       "  </tbody>\n",
       "</table>\n",
       "<p>2769 rows × 8 columns</p>\n",
       "</div>"
      ],
      "text/plain": [
       "           Days of Week  Is Start of Month Day of Week      Open      High  \\\n",
       "Date                                                                         \n",
       "2020-12-31     Thursday              False    Thursday  217.8220  219.1040   \n",
       "2020-12-30    Wednesday              False   Wednesday  221.2770  221.6740   \n",
       "2020-12-29      Tuesday              False     Tuesday  222.3500  223.2140   \n",
       "2020-12-28       Monday              False      Monday  220.5040  222.0710   \n",
       "2020-12-24     Thursday              False    Thursday  217.5450  219.6890   \n",
       "...                 ...                ...         ...       ...       ...   \n",
       "2010-01-08       Friday              False      Friday   23.7837   24.2642   \n",
       "2010-01-07     Thursday              False    Thursday   24.0537   24.1232   \n",
       "2010-01-06    Wednesday              False   Wednesday   24.2642   24.4230   \n",
       "2010-01-05      Tuesday              False     Tuesday   24.2542   24.4389   \n",
       "2010-01-04       Monday              False      Monday   24.0854   24.4389   \n",
       "\n",
       "                 Low     Close        Volume  \n",
       "Date                                          \n",
       "2020-12-31  215.8380  218.5280  2.131555e+07  \n",
       "2020-12-30  217.5950  217.8020  2.063381e+07  \n",
       "2020-12-29  219.6590  220.2050  1.771353e+07  \n",
       "2020-12-28  219.1230  221.0100  1.825327e+07  \n",
       "2020-12-24  217.3260  218.8550  1.073870e+07  \n",
       "...              ...       ...           ...  \n",
       "2010-01-08   23.7608   24.0934  6.515561e+07  \n",
       "2010-01-07   23.7221   23.9257  6.434577e+07  \n",
       "2010-01-06   23.9852   24.1758  7.403254e+07  \n",
       "2010-01-05   24.0765   24.3267  6.331174e+07  \n",
       "2010-01-04   24.0358   24.3178  4.886916e+07  \n",
       "\n",
       "[2769 rows x 8 columns]"
      ]
     },
     "execution_count": 54,
     "metadata": {},
     "output_type": "execute_result"
    }
   ],
   "source": [
    "stocks.insert(1, \"Is Start of Month\", stocks.index.is_month_start)\n",
    "stocks"
   ]
  },
  {
   "cell_type": "code",
   "execution_count": 55,
   "id": "5b585f74",
   "metadata": {},
   "outputs": [
    {
     "data": {
      "text/html": [
       "<div>\n",
       "<style scoped>\n",
       "    .dataframe tbody tr th:only-of-type {\n",
       "        vertical-align: middle;\n",
       "    }\n",
       "\n",
       "    .dataframe tbody tr th {\n",
       "        vertical-align: top;\n",
       "    }\n",
       "\n",
       "    .dataframe thead th {\n",
       "        text-align: right;\n",
       "    }\n",
       "</style>\n",
       "<table border=\"1\" class=\"dataframe\">\n",
       "  <thead>\n",
       "    <tr style=\"text-align: right;\">\n",
       "      <th></th>\n",
       "      <th>Days of Week</th>\n",
       "      <th>Is Start of Month</th>\n",
       "      <th>Day of Week</th>\n",
       "      <th>Open</th>\n",
       "      <th>High</th>\n",
       "      <th>Low</th>\n",
       "      <th>Close</th>\n",
       "      <th>Volume</th>\n",
       "    </tr>\n",
       "    <tr>\n",
       "      <th>Date</th>\n",
       "      <th></th>\n",
       "      <th></th>\n",
       "      <th></th>\n",
       "      <th></th>\n",
       "      <th></th>\n",
       "      <th></th>\n",
       "      <th></th>\n",
       "      <th></th>\n",
       "    </tr>\n",
       "  </thead>\n",
       "  <tbody>\n",
       "    <tr>\n",
       "      <th>2020-12-01</th>\n",
       "      <td>Tuesday</td>\n",
       "      <td>True</td>\n",
       "      <td>Tuesday</td>\n",
       "      <td>210.7540</td>\n",
       "      <td>213.5230</td>\n",
       "      <td>209.6020</td>\n",
       "      <td>212.4220</td>\n",
       "      <td>3.148286e+07</td>\n",
       "    </tr>\n",
       "    <tr>\n",
       "      <th>2020-10-01</th>\n",
       "      <td>Thursday</td>\n",
       "      <td>True</td>\n",
       "      <td>Thursday</td>\n",
       "      <td>209.1950</td>\n",
       "      <td>209.6820</td>\n",
       "      <td>207.0900</td>\n",
       "      <td>208.2030</td>\n",
       "      <td>2.771505e+07</td>\n",
       "    </tr>\n",
       "    <tr>\n",
       "      <th>2020-09-01</th>\n",
       "      <td>Tuesday</td>\n",
       "      <td>True</td>\n",
       "      <td>Tuesday</td>\n",
       "      <td>220.9700</td>\n",
       "      <td>222.8960</td>\n",
       "      <td>219.9170</td>\n",
       "      <td>222.7170</td>\n",
       "      <td>2.631985e+07</td>\n",
       "    </tr>\n",
       "    <tr>\n",
       "      <th>2020-07-01</th>\n",
       "      <td>Wednesday</td>\n",
       "      <td>True</td>\n",
       "      <td>Wednesday</td>\n",
       "      <td>198.5920</td>\n",
       "      <td>201.7210</td>\n",
       "      <td>197.2420</td>\n",
       "      <td>200.1020</td>\n",
       "      <td>3.279741e+07</td>\n",
       "    </tr>\n",
       "    <tr>\n",
       "      <th>2020-06-01</th>\n",
       "      <td>Monday</td>\n",
       "      <td>True</td>\n",
       "      <td>Monday</td>\n",
       "      <td>178.4290</td>\n",
       "      <td>178.8860</td>\n",
       "      <td>177.3870</td>\n",
       "      <td>178.7180</td>\n",
       "      <td>2.318935e+07</td>\n",
       "    </tr>\n",
       "    <tr>\n",
       "      <th>...</th>\n",
       "      <td>...</td>\n",
       "      <td>...</td>\n",
       "      <td>...</td>\n",
       "      <td>...</td>\n",
       "      <td>...</td>\n",
       "      <td>...</td>\n",
       "      <td>...</td>\n",
       "      <td>...</td>\n",
       "    </tr>\n",
       "    <tr>\n",
       "      <th>2010-07-01</th>\n",
       "      <td>Thursday</td>\n",
       "      <td>True</td>\n",
       "      <td>Thursday</td>\n",
       "      <td>18.1428</td>\n",
       "      <td>18.3235</td>\n",
       "      <td>17.8589</td>\n",
       "      <td>18.1964</td>\n",
       "      <td>1.173523e+08</td>\n",
       "    </tr>\n",
       "    <tr>\n",
       "      <th>2010-06-01</th>\n",
       "      <td>Tuesday</td>\n",
       "      <td>True</td>\n",
       "      <td>Tuesday</td>\n",
       "      <td>20.0906</td>\n",
       "      <td>20.6763</td>\n",
       "      <td>20.0559</td>\n",
       "      <td>20.3438</td>\n",
       "      <td>9.687786e+07</td>\n",
       "    </tr>\n",
       "    <tr>\n",
       "      <th>2010-04-01</th>\n",
       "      <td>Thursday</td>\n",
       "      <td>True</td>\n",
       "      <td>Thursday</td>\n",
       "      <td>23.0619</td>\n",
       "      <td>23.2089</td>\n",
       "      <td>22.4861</td>\n",
       "      <td>22.9120</td>\n",
       "      <td>9.513903e+07</td>\n",
       "    </tr>\n",
       "    <tr>\n",
       "      <th>2010-03-01</th>\n",
       "      <td>Monday</td>\n",
       "      <td>True</td>\n",
       "      <td>Monday</td>\n",
       "      <td>22.6053</td>\n",
       "      <td>22.8277</td>\n",
       "      <td>22.4196</td>\n",
       "      <td>22.8048</td>\n",
       "      <td>5.570803e+07</td>\n",
       "    </tr>\n",
       "    <tr>\n",
       "      <th>2010-02-01</th>\n",
       "      <td>Monday</td>\n",
       "      <td>True</td>\n",
       "      <td>Monday</td>\n",
       "      <td>22.3144</td>\n",
       "      <td>22.3809</td>\n",
       "      <td>21.9382</td>\n",
       "      <td>22.3234</td>\n",
       "      <td>1.092082e+08</td>\n",
       "    </tr>\n",
       "  </tbody>\n",
       "</table>\n",
       "<p>85 rows × 8 columns</p>\n",
       "</div>"
      ],
      "text/plain": [
       "           Days of Week  Is Start of Month Day of Week      Open      High  \\\n",
       "Date                                                                         \n",
       "2020-12-01      Tuesday               True     Tuesday  210.7540  213.5230   \n",
       "2020-10-01     Thursday               True    Thursday  209.1950  209.6820   \n",
       "2020-09-01      Tuesday               True     Tuesday  220.9700  222.8960   \n",
       "2020-07-01    Wednesday               True   Wednesday  198.5920  201.7210   \n",
       "2020-06-01       Monday               True      Monday  178.4290  178.8860   \n",
       "...                 ...                ...         ...       ...       ...   \n",
       "2010-07-01     Thursday               True    Thursday   18.1428   18.3235   \n",
       "2010-06-01      Tuesday               True     Tuesday   20.0906   20.6763   \n",
       "2010-04-01     Thursday               True    Thursday   23.0619   23.2089   \n",
       "2010-03-01       Monday               True      Monday   22.6053   22.8277   \n",
       "2010-02-01       Monday               True      Monday   22.3144   22.3809   \n",
       "\n",
       "                 Low     Close        Volume  \n",
       "Date                                          \n",
       "2020-12-01  209.6020  212.4220  3.148286e+07  \n",
       "2020-10-01  207.0900  208.2030  2.771505e+07  \n",
       "2020-09-01  219.9170  222.7170  2.631985e+07  \n",
       "2020-07-01  197.2420  200.1020  3.279741e+07  \n",
       "2020-06-01  177.3870  178.7180  2.318935e+07  \n",
       "...              ...       ...           ...  \n",
       "2010-07-01   17.8589   18.1964  1.173523e+08  \n",
       "2010-06-01   20.0559   20.3438  9.687786e+07  \n",
       "2010-04-01   22.4861   22.9120  9.513903e+07  \n",
       "2010-03-01   22.4196   22.8048  5.570803e+07  \n",
       "2010-02-01   21.9382   22.3234  1.092082e+08  \n",
       "\n",
       "[85 rows x 8 columns]"
      ]
     },
     "execution_count": 55,
     "metadata": {},
     "output_type": "execute_result"
    }
   ],
   "source": [
    "stocks[stocks[\"Is Start of Month\"]]"
   ]
  },
  {
   "cell_type": "markdown",
   "id": "e23a4830",
   "metadata": {},
   "source": [
    "# The pd.DateOffset Object"
   ]
  },
  {
   "cell_type": "code",
   "execution_count": 56,
   "id": "a45b294e",
   "metadata": {},
   "outputs": [],
   "source": [
    "import pandas as pd\n",
    "import datetime as dt\n",
    "from pandas_datareader import data"
   ]
  },
  {
   "cell_type": "code",
   "execution_count": 57,
   "id": "cf0eb5d9",
   "metadata": {},
   "outputs": [
    {
     "data": {
      "text/html": [
       "<div>\n",
       "<style scoped>\n",
       "    .dataframe tbody tr th:only-of-type {\n",
       "        vertical-align: middle;\n",
       "    }\n",
       "\n",
       "    .dataframe tbody tr th {\n",
       "        vertical-align: top;\n",
       "    }\n",
       "\n",
       "    .dataframe thead th {\n",
       "        text-align: right;\n",
       "    }\n",
       "</style>\n",
       "<table border=\"1\" class=\"dataframe\">\n",
       "  <thead>\n",
       "    <tr style=\"text-align: right;\">\n",
       "      <th></th>\n",
       "      <th>Open</th>\n",
       "      <th>High</th>\n",
       "      <th>Low</th>\n",
       "      <th>Close</th>\n",
       "      <th>Volume</th>\n",
       "    </tr>\n",
       "    <tr>\n",
       "      <th>Date</th>\n",
       "      <th></th>\n",
       "      <th></th>\n",
       "      <th></th>\n",
       "      <th></th>\n",
       "      <th></th>\n",
       "    </tr>\n",
       "  </thead>\n",
       "  <tbody>\n",
       "    <tr>\n",
       "      <th>2020-12-31</th>\n",
       "      <td>217.822</td>\n",
       "      <td>219.104</td>\n",
       "      <td>215.838</td>\n",
       "      <td>218.528</td>\n",
       "      <td>2.131555e+07</td>\n",
       "    </tr>\n",
       "    <tr>\n",
       "      <th>2020-12-30</th>\n",
       "      <td>221.277</td>\n",
       "      <td>221.674</td>\n",
       "      <td>217.595</td>\n",
       "      <td>217.802</td>\n",
       "      <td>2.063381e+07</td>\n",
       "    </tr>\n",
       "    <tr>\n",
       "      <th>2020-12-29</th>\n",
       "      <td>222.350</td>\n",
       "      <td>223.214</td>\n",
       "      <td>219.659</td>\n",
       "      <td>220.205</td>\n",
       "      <td>1.771353e+07</td>\n",
       "    </tr>\n",
       "  </tbody>\n",
       "</table>\n",
       "</div>"
      ],
      "text/plain": [
       "               Open     High      Low    Close        Volume\n",
       "Date                                                        \n",
       "2020-12-31  217.822  219.104  215.838  218.528  2.131555e+07\n",
       "2020-12-30  221.277  221.674  217.595  217.802  2.063381e+07\n",
       "2020-12-29  222.350  223.214  219.659  220.205  1.771353e+07"
      ]
     },
     "execution_count": 57,
     "metadata": {},
     "output_type": "execute_result"
    }
   ],
   "source": [
    "stocks = data.DataReader(name =\"MSFT\", data_source =\"stooq\", start = \"2010-01-01\", end = \"2020-12-31\")\n",
    "stocks.head(3)"
   ]
  },
  {
   "cell_type": "code",
   "execution_count": 58,
   "id": "bdbe4b2a",
   "metadata": {},
   "outputs": [
    {
     "data": {
      "text/plain": [
       "Date\n",
       "2020-12-31    219.1040\n",
       "2020-12-30    221.6740\n",
       "2020-12-29    223.2140\n",
       "2020-12-28    222.0710\n",
       "2020-12-24    219.6890\n",
       "                ...   \n",
       "2010-01-08     24.2642\n",
       "2010-01-07     24.1232\n",
       "2010-01-06     24.4230\n",
       "2010-01-05     24.4389\n",
       "2010-01-04     24.4389\n",
       "Name: High, Length: 2769, dtype: float64"
      ]
     },
     "execution_count": 58,
     "metadata": {},
     "output_type": "execute_result"
    }
   ],
   "source": [
    "stocks[\"High\"]"
   ]
  },
  {
   "cell_type": "code",
   "execution_count": 59,
   "id": "5ed8b0d2",
   "metadata": {},
   "outputs": [
    {
     "data": {
      "text/plain": [
       "DatetimeIndex(['2021-01-05', '2021-01-04', '2021-01-03', '2021-01-02',\n",
       "               '2020-12-29', '2020-12-28', '2020-12-27', '2020-12-26',\n",
       "               '2020-12-23', '2020-12-22',\n",
       "               ...\n",
       "               '2010-01-20', '2010-01-19', '2010-01-18', '2010-01-17',\n",
       "               '2010-01-16', '2010-01-13', '2010-01-12', '2010-01-11',\n",
       "               '2010-01-10', '2010-01-09'],\n",
       "              dtype='datetime64[ns]', name='Date', length=2769, freq=None)"
      ]
     },
     "execution_count": 59,
     "metadata": {},
     "output_type": "execute_result"
    }
   ],
   "source": [
    "stocks.index + pd.DateOffset(days = 5)"
   ]
  },
  {
   "cell_type": "code",
   "execution_count": 60,
   "id": "624000fc",
   "metadata": {},
   "outputs": [
    {
     "data": {
      "text/plain": [
       "DatetimeIndex(['2020-12-26', '2020-12-25', '2020-12-24', '2020-12-23',\n",
       "               '2020-12-19', '2020-12-18', '2020-12-17', '2020-12-16',\n",
       "               '2020-12-13', '2020-12-12',\n",
       "               ...\n",
       "               '2010-01-10', '2010-01-09', '2010-01-08', '2010-01-07',\n",
       "               '2010-01-06', '2010-01-03', '2010-01-02', '2010-01-01',\n",
       "               '2009-12-31', '2009-12-30'],\n",
       "              dtype='datetime64[ns]', name='Date', length=2769, freq=None)"
      ]
     },
     "execution_count": 60,
     "metadata": {},
     "output_type": "execute_result"
    }
   ],
   "source": [
    "stocks.index - pd.DateOffset(days = 5)"
   ]
  },
  {
   "cell_type": "code",
   "execution_count": 62,
   "id": "14d738af",
   "metadata": {},
   "outputs": [],
   "source": [
    "stocks.index = stocks.index - pd.DateOffset(days = 5)"
   ]
  },
  {
   "cell_type": "code",
   "execution_count": 63,
   "id": "401d8127",
   "metadata": {},
   "outputs": [
    {
     "data": {
      "text/plain": [
       "DatetimeIndex(['2021-01-04', '2021-01-03', '2021-01-02', '2021-01-01',\n",
       "               '2020-12-28', '2020-12-27', '2020-12-26', '2020-12-25',\n",
       "               '2020-12-22', '2020-12-21',\n",
       "               ...\n",
       "               '2010-01-19', '2010-01-18', '2010-01-17', '2010-01-16',\n",
       "               '2010-01-15', '2010-01-12', '2010-01-11', '2010-01-10',\n",
       "               '2010-01-09', '2010-01-08'],\n",
       "              dtype='datetime64[ns]', name='Date', length=2769, freq=None)"
      ]
     },
     "execution_count": 63,
     "metadata": {},
     "output_type": "execute_result"
    }
   ],
   "source": [
    "stocks.index + pd.DateOffset(weeks = 2)"
   ]
  },
  {
   "cell_type": "code",
   "execution_count": 64,
   "id": "24c231cc",
   "metadata": {},
   "outputs": [
    {
     "data": {
      "text/plain": [
       "DatetimeIndex(['2020-12-07', '2020-12-06', '2020-12-05', '2020-12-04',\n",
       "               '2020-11-30', '2020-11-29', '2020-11-28', '2020-11-27',\n",
       "               '2020-11-24', '2020-11-23',\n",
       "               ...\n",
       "               '2009-12-22', '2009-12-21', '2009-12-20', '2009-12-19',\n",
       "               '2009-12-18', '2009-12-15', '2009-12-14', '2009-12-13',\n",
       "               '2009-12-12', '2009-12-11'],\n",
       "              dtype='datetime64[ns]', name='Date', length=2769, freq=None)"
      ]
     },
     "execution_count": 64,
     "metadata": {},
     "output_type": "execute_result"
    }
   ],
   "source": [
    "stocks.index - pd.DateOffset(weeks = 2)"
   ]
  },
  {
   "cell_type": "code",
   "execution_count": 65,
   "id": "ed87ae73",
   "metadata": {},
   "outputs": [
    {
     "data": {
      "text/plain": [
       "DatetimeIndex(['2021-03-21', '2021-03-20', '2021-03-19', '2021-03-18',\n",
       "               '2021-03-14', '2021-03-13', '2021-03-12', '2021-03-11',\n",
       "               '2021-03-08', '2021-03-07',\n",
       "               ...\n",
       "               '2010-04-05', '2010-04-04', '2010-04-03', '2010-04-02',\n",
       "               '2010-04-01', '2010-03-29', '2010-03-28', '2010-03-27',\n",
       "               '2010-03-26', '2010-03-25'],\n",
       "              dtype='datetime64[ns]', name='Date', length=2769, freq=None)"
      ]
     },
     "execution_count": 65,
     "metadata": {},
     "output_type": "execute_result"
    }
   ],
   "source": [
    "stocks.index + pd.DateOffset(months = 3)"
   ]
  },
  {
   "cell_type": "code",
   "execution_count": 66,
   "id": "e208adf8",
   "metadata": {},
   "outputs": [
    {
     "data": {
      "text/plain": [
       "DatetimeIndex(['2020-07-21', '2020-07-20', '2020-07-19', '2020-07-18',\n",
       "               '2020-07-14', '2020-07-13', '2020-07-12', '2020-07-11',\n",
       "               '2020-07-08', '2020-07-07',\n",
       "               ...\n",
       "               '2009-08-05', '2009-08-04', '2009-08-03', '2009-08-02',\n",
       "               '2009-08-01', '2009-07-29', '2009-07-28', '2009-07-27',\n",
       "               '2009-07-26', '2009-07-25'],\n",
       "              dtype='datetime64[ns]', name='Date', length=2769, freq=None)"
      ]
     },
     "execution_count": 66,
     "metadata": {},
     "output_type": "execute_result"
    }
   ],
   "source": [
    "stocks.index - pd.DateOffset(months = 5)"
   ]
  },
  {
   "cell_type": "code",
   "execution_count": 67,
   "id": "51a15bfc",
   "metadata": {},
   "outputs": [
    {
     "data": {
      "text/plain": [
       "DatetimeIndex(['2021-12-21', '2021-12-20', '2021-12-19', '2021-12-18',\n",
       "               '2021-12-14', '2021-12-13', '2021-12-12', '2021-12-11',\n",
       "               '2021-12-08', '2021-12-07',\n",
       "               ...\n",
       "               '2011-01-05', '2011-01-04', '2011-01-03', '2011-01-02',\n",
       "               '2011-01-01', '2010-12-29', '2010-12-28', '2010-12-27',\n",
       "               '2010-12-26', '2010-12-25'],\n",
       "              dtype='datetime64[ns]', name='Date', length=2769, freq=None)"
      ]
     },
     "execution_count": 67,
     "metadata": {},
     "output_type": "execute_result"
    }
   ],
   "source": [
    "stocks.index + pd.DateOffset(years = 1)"
   ]
  },
  {
   "cell_type": "code",
   "execution_count": 68,
   "id": "fcfdcf11",
   "metadata": {},
   "outputs": [
    {
     "data": {
      "text/plain": [
       "DatetimeIndex(['2019-12-21', '2019-12-20', '2019-12-19', '2019-12-18',\n",
       "               '2019-12-14', '2019-12-13', '2019-12-12', '2019-12-11',\n",
       "               '2019-12-08', '2019-12-07',\n",
       "               ...\n",
       "               '2009-01-05', '2009-01-04', '2009-01-03', '2009-01-02',\n",
       "               '2009-01-01', '2008-12-29', '2008-12-28', '2008-12-27',\n",
       "               '2008-12-26', '2008-12-25'],\n",
       "              dtype='datetime64[ns]', name='Date', length=2769, freq=None)"
      ]
     },
     "execution_count": 68,
     "metadata": {},
     "output_type": "execute_result"
    }
   ],
   "source": [
    "stocks.index - pd.DateOffset(years = 1)"
   ]
  },
  {
   "cell_type": "code",
   "execution_count": 69,
   "id": "42c308bf",
   "metadata": {},
   "outputs": [
    {
     "data": {
      "text/plain": [
       "DatetimeIndex(['2022-03-31 06:02:00', '2022-03-30 06:02:00',\n",
       "               '2022-03-29 06:02:00', '2022-03-28 06:02:00',\n",
       "               '2022-03-24 06:02:00', '2022-03-23 06:02:00',\n",
       "               '2022-03-22 06:02:00', '2022-03-21 06:02:00',\n",
       "               '2022-03-18 06:02:00', '2022-03-17 06:02:00',\n",
       "               ...\n",
       "               '2011-04-15 06:02:00', '2011-04-14 06:02:00',\n",
       "               '2011-04-13 06:02:00', '2011-04-12 06:02:00',\n",
       "               '2011-04-11 06:02:00', '2011-04-08 06:02:00',\n",
       "               '2011-04-07 06:02:00', '2011-04-06 06:02:00',\n",
       "               '2011-04-05 06:02:00', '2011-04-04 06:02:00'],\n",
       "              dtype='datetime64[ns]', name='Date', length=2769, freq=None)"
      ]
     },
     "execution_count": 69,
     "metadata": {},
     "output_type": "execute_result"
    }
   ],
   "source": [
    "stocks.index + pd.DateOffset(years = 1, months = 3, days = 10, hours = 6, minutes = 2)"
   ]
  },
  {
   "cell_type": "code",
   "execution_count": 70,
   "id": "960a1e81",
   "metadata": {},
   "outputs": [
    {
     "data": {
      "text/plain": [
       "DatetimeIndex(['2019-09-10 17:58:00', '2019-09-09 17:58:00',\n",
       "               '2019-09-08 17:58:00', '2019-09-07 17:58:00',\n",
       "               '2019-09-03 17:58:00', '2019-09-02 17:58:00',\n",
       "               '2019-09-01 17:58:00', '2019-08-31 17:58:00',\n",
       "               '2019-08-28 17:58:00', '2019-08-27 17:58:00',\n",
       "               ...\n",
       "               '2008-09-24 17:58:00', '2008-09-23 17:58:00',\n",
       "               '2008-09-22 17:58:00', '2008-09-21 17:58:00',\n",
       "               '2008-09-20 17:58:00', '2008-09-18 17:58:00',\n",
       "               '2008-09-17 17:58:00', '2008-09-16 17:58:00',\n",
       "               '2008-09-15 17:58:00', '2008-09-14 17:58:00'],\n",
       "              dtype='datetime64[ns]', name='Date', length=2769, freq=None)"
      ]
     },
     "execution_count": 70,
     "metadata": {},
     "output_type": "execute_result"
    }
   ],
   "source": [
    "stocks.index - pd.DateOffset(years = 1, months = 3, days = 10, hours = 6, minutes = 2)"
   ]
  },
  {
   "cell_type": "code",
   "execution_count": 71,
   "id": "b70b626b",
   "metadata": {},
   "outputs": [
    {
     "data": {
      "text/plain": [
       "DatetimeIndex(['2022-03-31 06:02:26', '2022-03-30 06:02:26',\n",
       "               '2022-03-29 06:02:26', '2022-03-28 06:02:26',\n",
       "               '2022-03-24 06:02:26', '2022-03-23 06:02:26',\n",
       "               '2022-03-22 06:02:26', '2022-03-21 06:02:26',\n",
       "               '2022-03-18 06:02:26', '2022-03-17 06:02:26',\n",
       "               ...\n",
       "               '2011-04-15 06:02:26', '2011-04-14 06:02:26',\n",
       "               '2011-04-13 06:02:26', '2011-04-12 06:02:26',\n",
       "               '2011-04-11 06:02:26', '2011-04-08 06:02:26',\n",
       "               '2011-04-07 06:02:26', '2011-04-06 06:02:26',\n",
       "               '2011-04-05 06:02:26', '2011-04-04 06:02:26'],\n",
       "              dtype='datetime64[ns]', name='Date', length=2769, freq=None)"
      ]
     },
     "execution_count": 71,
     "metadata": {},
     "output_type": "execute_result"
    }
   ],
   "source": [
    "stocks.index + pd.DateOffset(years = 1, months = 3, days = 10, hours = 6, minutes = 2, seconds = 26)"
   ]
  },
  {
   "cell_type": "markdown",
   "id": "f1a21ca5",
   "metadata": {},
   "source": [
    "# Timeseries Offsets"
   ]
  },
  {
   "cell_type": "code",
   "execution_count": 72,
   "id": "2070eb8d",
   "metadata": {},
   "outputs": [],
   "source": [
    "import pandas as pd\n",
    "import datetime as dt\n",
    "from pandas_datareader import data"
   ]
  },
  {
   "cell_type": "code",
   "execution_count": 73,
   "id": "f97d35cd",
   "metadata": {},
   "outputs": [
    {
     "data": {
      "text/html": [
       "<div>\n",
       "<style scoped>\n",
       "    .dataframe tbody tr th:only-of-type {\n",
       "        vertical-align: middle;\n",
       "    }\n",
       "\n",
       "    .dataframe tbody tr th {\n",
       "        vertical-align: top;\n",
       "    }\n",
       "\n",
       "    .dataframe thead th {\n",
       "        text-align: right;\n",
       "    }\n",
       "</style>\n",
       "<table border=\"1\" class=\"dataframe\">\n",
       "  <thead>\n",
       "    <tr style=\"text-align: right;\">\n",
       "      <th></th>\n",
       "      <th>Open</th>\n",
       "      <th>High</th>\n",
       "      <th>Low</th>\n",
       "      <th>Close</th>\n",
       "      <th>Volume</th>\n",
       "    </tr>\n",
       "    <tr>\n",
       "      <th>Date</th>\n",
       "      <th></th>\n",
       "      <th></th>\n",
       "      <th></th>\n",
       "      <th></th>\n",
       "      <th></th>\n",
       "    </tr>\n",
       "  </thead>\n",
       "  <tbody>\n",
       "    <tr>\n",
       "      <th>2020-12-31</th>\n",
       "      <td>217.822</td>\n",
       "      <td>219.104</td>\n",
       "      <td>215.838</td>\n",
       "      <td>218.528</td>\n",
       "      <td>2.131555e+07</td>\n",
       "    </tr>\n",
       "    <tr>\n",
       "      <th>2020-12-30</th>\n",
       "      <td>221.277</td>\n",
       "      <td>221.674</td>\n",
       "      <td>217.595</td>\n",
       "      <td>217.802</td>\n",
       "      <td>2.063381e+07</td>\n",
       "    </tr>\n",
       "    <tr>\n",
       "      <th>2020-12-29</th>\n",
       "      <td>222.350</td>\n",
       "      <td>223.214</td>\n",
       "      <td>219.659</td>\n",
       "      <td>220.205</td>\n",
       "      <td>1.771353e+07</td>\n",
       "    </tr>\n",
       "  </tbody>\n",
       "</table>\n",
       "</div>"
      ],
      "text/plain": [
       "               Open     High      Low    Close        Volume\n",
       "Date                                                        \n",
       "2020-12-31  217.822  219.104  215.838  218.528  2.131555e+07\n",
       "2020-12-30  221.277  221.674  217.595  217.802  2.063381e+07\n",
       "2020-12-29  222.350  223.214  219.659  220.205  1.771353e+07"
      ]
     },
     "execution_count": 73,
     "metadata": {},
     "output_type": "execute_result"
    }
   ],
   "source": [
    "stocks = data.DataReader(name =\"MSFT\", data_source =\"stooq\", start = \"2010-01-01\", end = \"2020-12-31\")\n",
    "stocks.head(3)"
   ]
  },
  {
   "cell_type": "code",
   "execution_count": 75,
   "id": "71bcf94b",
   "metadata": {},
   "outputs": [
    {
     "data": {
      "text/plain": [
       "DatetimeIndex(['2021-01-31', '2020-12-31', '2020-12-31', '2020-12-31',\n",
       "               '2020-12-31', '2020-12-31', '2020-12-31', '2020-12-31',\n",
       "               '2020-12-31', '2020-12-31',\n",
       "               ...\n",
       "               '2010-01-31', '2010-01-31', '2010-01-31', '2010-01-31',\n",
       "               '2010-01-31', '2010-01-31', '2010-01-31', '2010-01-31',\n",
       "               '2010-01-31', '2010-01-31'],\n",
       "              dtype='datetime64[ns]', name='Date', length=2769, freq=None)"
      ]
     },
     "execution_count": 75,
     "metadata": {},
     "output_type": "execute_result"
    }
   ],
   "source": [
    "stocks.index + pd.tseries.offsets.MonthEnd()"
   ]
  },
  {
   "cell_type": "code",
   "execution_count": 76,
   "id": "4a096887",
   "metadata": {},
   "outputs": [
    {
     "data": {
      "text/plain": [
       "DatetimeIndex(['2020-11-30', '2020-11-30', '2020-11-30', '2020-11-30',\n",
       "               '2020-11-30', '2020-11-30', '2020-11-30', '2020-11-30',\n",
       "               '2020-11-30', '2020-11-30',\n",
       "               ...\n",
       "               '2009-12-31', '2009-12-31', '2009-12-31', '2009-12-31',\n",
       "               '2009-12-31', '2009-12-31', '2009-12-31', '2009-12-31',\n",
       "               '2009-12-31', '2009-12-31'],\n",
       "              dtype='datetime64[ns]', name='Date', length=2769, freq=None)"
      ]
     },
     "execution_count": 76,
     "metadata": {},
     "output_type": "execute_result"
    }
   ],
   "source": [
    "stocks.index - pd.tseries.offsets.MonthEnd()"
   ]
  },
  {
   "cell_type": "code",
   "execution_count": 77,
   "id": "06d9d4c4",
   "metadata": {},
   "outputs": [
    {
     "data": {
      "text/plain": [
       "DatetimeIndex(['2021-01-01', '2021-01-01', '2021-01-01', '2021-01-01',\n",
       "               '2021-01-01', '2021-01-01', '2021-01-01', '2021-01-01',\n",
       "               '2021-01-01', '2021-01-01',\n",
       "               ...\n",
       "               '2010-02-01', '2010-02-01', '2010-02-01', '2010-02-01',\n",
       "               '2010-02-01', '2010-02-01', '2010-02-01', '2010-02-01',\n",
       "               '2010-02-01', '2010-02-01'],\n",
       "              dtype='datetime64[ns]', name='Date', length=2769, freq=None)"
      ]
     },
     "execution_count": 77,
     "metadata": {},
     "output_type": "execute_result"
    }
   ],
   "source": [
    "stocks.index + pd.tseries.offsets.MonthBegin()"
   ]
  },
  {
   "cell_type": "code",
   "execution_count": 78,
   "id": "bc6ea1fe",
   "metadata": {},
   "outputs": [
    {
     "data": {
      "text/plain": [
       "DatetimeIndex(['2020-12-01', '2020-12-01', '2020-12-01', '2020-12-01',\n",
       "               '2020-12-01', '2020-12-01', '2020-12-01', '2020-12-01',\n",
       "               '2020-12-01', '2020-12-01',\n",
       "               ...\n",
       "               '2010-01-01', '2010-01-01', '2010-01-01', '2010-01-01',\n",
       "               '2010-01-01', '2010-01-01', '2010-01-01', '2010-01-01',\n",
       "               '2010-01-01', '2010-01-01'],\n",
       "              dtype='datetime64[ns]', name='Date', length=2769, freq=None)"
      ]
     },
     "execution_count": 78,
     "metadata": {},
     "output_type": "execute_result"
    }
   ],
   "source": [
    "stocks.index - pd.tseries.offsets.MonthBegin()"
   ]
  },
  {
   "cell_type": "code",
   "execution_count": 79,
   "id": "d5a1b8f0",
   "metadata": {},
   "outputs": [],
   "source": [
    "from pandas.tseries import offsets"
   ]
  },
  {
   "cell_type": "code",
   "execution_count": 81,
   "id": "46ee8287",
   "metadata": {},
   "outputs": [
    {
     "data": {
      "text/plain": [
       "DatetimeIndex(['2021-01-31', '2020-12-31', '2020-12-31', '2020-12-31',\n",
       "               '2020-12-31', '2020-12-31', '2020-12-31', '2020-12-31',\n",
       "               '2020-12-31', '2020-12-31',\n",
       "               ...\n",
       "               '2010-01-31', '2010-01-31', '2010-01-31', '2010-01-31',\n",
       "               '2010-01-31', '2010-01-31', '2010-01-31', '2010-01-31',\n",
       "               '2010-01-31', '2010-01-31'],\n",
       "              dtype='datetime64[ns]', name='Date', length=2769, freq=None)"
      ]
     },
     "execution_count": 81,
     "metadata": {},
     "output_type": "execute_result"
    }
   ],
   "source": [
    "stocks.index + offsets.MonthEnd()"
   ]
  },
  {
   "cell_type": "code",
   "execution_count": 82,
   "id": "d624be09",
   "metadata": {},
   "outputs": [
    {
     "data": {
      "text/plain": [
       "DatetimeIndex(['2021-01-29', '2020-12-31', '2020-12-31', '2020-12-31',\n",
       "               '2020-12-31', '2020-12-31', '2020-12-31', '2020-12-31',\n",
       "               '2020-12-31', '2020-12-31',\n",
       "               ...\n",
       "               '2010-01-29', '2010-01-29', '2010-01-29', '2010-01-29',\n",
       "               '2010-01-29', '2010-01-29', '2010-01-29', '2010-01-29',\n",
       "               '2010-01-29', '2010-01-29'],\n",
       "              dtype='datetime64[ns]', name='Date', length=2769, freq=None)"
      ]
     },
     "execution_count": 82,
     "metadata": {},
     "output_type": "execute_result"
    }
   ],
   "source": [
    "stocks.index + offsets.BMonthEnd()"
   ]
  },
  {
   "cell_type": "code",
   "execution_count": 83,
   "id": "936d527a",
   "metadata": {},
   "outputs": [
    {
     "data": {
      "text/plain": [
       "DatetimeIndex(['2020-11-30', '2020-11-30', '2020-11-30', '2020-11-30',\n",
       "               '2020-11-30', '2020-11-30', '2020-11-30', '2020-11-30',\n",
       "               '2020-11-30', '2020-11-30',\n",
       "               ...\n",
       "               '2009-12-31', '2009-12-31', '2009-12-31', '2009-12-31',\n",
       "               '2009-12-31', '2009-12-31', '2009-12-31', '2009-12-31',\n",
       "               '2009-12-31', '2009-12-31'],\n",
       "              dtype='datetime64[ns]', name='Date', length=2769, freq=None)"
      ]
     },
     "execution_count": 83,
     "metadata": {},
     "output_type": "execute_result"
    }
   ],
   "source": [
    "stocks.index - offsets.BMonthEnd()"
   ]
  },
  {
   "cell_type": "code",
   "execution_count": 84,
   "id": "71517d02",
   "metadata": {},
   "outputs": [
    {
     "data": {
      "text/plain": [
       "DatetimeIndex(['2021-12-31', '2020-12-31', '2020-12-31', '2020-12-31',\n",
       "               '2020-12-31', '2020-12-31', '2020-12-31', '2020-12-31',\n",
       "               '2020-12-31', '2020-12-31',\n",
       "               ...\n",
       "               '2010-12-31', '2010-12-31', '2010-12-31', '2010-12-31',\n",
       "               '2010-12-31', '2010-12-31', '2010-12-31', '2010-12-31',\n",
       "               '2010-12-31', '2010-12-31'],\n",
       "              dtype='datetime64[ns]', name='Date', length=2769, freq=None)"
      ]
     },
     "execution_count": 84,
     "metadata": {},
     "output_type": "execute_result"
    }
   ],
   "source": [
    "stocks.index + offsets.YearEnd()"
   ]
  },
  {
   "cell_type": "code",
   "execution_count": 85,
   "id": "052f8bc7",
   "metadata": {},
   "outputs": [
    {
     "data": {
      "text/plain": [
       "DatetimeIndex(['2019-12-31', '2019-12-31', '2019-12-31', '2019-12-31',\n",
       "               '2019-12-31', '2019-12-31', '2019-12-31', '2019-12-31',\n",
       "               '2019-12-31', '2019-12-31',\n",
       "               ...\n",
       "               '2009-12-31', '2009-12-31', '2009-12-31', '2009-12-31',\n",
       "               '2009-12-31', '2009-12-31', '2009-12-31', '2009-12-31',\n",
       "               '2009-12-31', '2009-12-31'],\n",
       "              dtype='datetime64[ns]', name='Date', length=2769, freq=None)"
      ]
     },
     "execution_count": 85,
     "metadata": {},
     "output_type": "execute_result"
    }
   ],
   "source": [
    "stocks.index - offsets.YearEnd()"
   ]
  },
  {
   "cell_type": "code",
   "execution_count": 86,
   "id": "d087f8ef",
   "metadata": {},
   "outputs": [
    {
     "data": {
      "text/plain": [
       "DatetimeIndex(['2021-01-01', '2021-01-01', '2021-01-01', '2021-01-01',\n",
       "               '2021-01-01', '2021-01-01', '2021-01-01', '2021-01-01',\n",
       "               '2021-01-01', '2021-01-01',\n",
       "               ...\n",
       "               '2011-01-01', '2011-01-01', '2011-01-01', '2011-01-01',\n",
       "               '2011-01-01', '2011-01-01', '2011-01-01', '2011-01-01',\n",
       "               '2011-01-01', '2011-01-01'],\n",
       "              dtype='datetime64[ns]', name='Date', length=2769, freq=None)"
      ]
     },
     "execution_count": 86,
     "metadata": {},
     "output_type": "execute_result"
    }
   ],
   "source": [
    "stocks.index + offsets.YearBegin()"
   ]
  },
  {
   "cell_type": "code",
   "execution_count": 87,
   "id": "ce820fd4",
   "metadata": {},
   "outputs": [
    {
     "data": {
      "text/plain": [
       "DatetimeIndex(['2020-01-01', '2020-01-01', '2020-01-01', '2020-01-01',\n",
       "               '2020-01-01', '2020-01-01', '2020-01-01', '2020-01-01',\n",
       "               '2020-01-01', '2020-01-01',\n",
       "               ...\n",
       "               '2010-01-01', '2010-01-01', '2010-01-01', '2010-01-01',\n",
       "               '2010-01-01', '2010-01-01', '2010-01-01', '2010-01-01',\n",
       "               '2010-01-01', '2010-01-01'],\n",
       "              dtype='datetime64[ns]', name='Date', length=2769, freq=None)"
      ]
     },
     "execution_count": 87,
     "metadata": {},
     "output_type": "execute_result"
    }
   ],
   "source": [
    "stocks.index - offsets.YearBegin()"
   ]
  },
  {
   "cell_type": "markdown",
   "id": "007c67ec",
   "metadata": {},
   "source": [
    "# The Timedelta Object"
   ]
  },
  {
   "cell_type": "code",
   "execution_count": null,
   "id": "32355308",
   "metadata": {},
   "outputs": [],
   "source": [
    "import pandas as pd\n",
    "import datetime as dt\n",
    "from pandas_datareader import data"
   ]
  },
  {
   "cell_type": "code",
   "execution_count": 88,
   "id": "9c97a467",
   "metadata": {},
   "outputs": [
    {
     "data": {
      "text/html": [
       "<div>\n",
       "<style scoped>\n",
       "    .dataframe tbody tr th:only-of-type {\n",
       "        vertical-align: middle;\n",
       "    }\n",
       "\n",
       "    .dataframe tbody tr th {\n",
       "        vertical-align: top;\n",
       "    }\n",
       "\n",
       "    .dataframe thead th {\n",
       "        text-align: right;\n",
       "    }\n",
       "</style>\n",
       "<table border=\"1\" class=\"dataframe\">\n",
       "  <thead>\n",
       "    <tr style=\"text-align: right;\">\n",
       "      <th></th>\n",
       "      <th>Open</th>\n",
       "      <th>High</th>\n",
       "      <th>Low</th>\n",
       "      <th>Close</th>\n",
       "      <th>Volume</th>\n",
       "    </tr>\n",
       "    <tr>\n",
       "      <th>Date</th>\n",
       "      <th></th>\n",
       "      <th></th>\n",
       "      <th></th>\n",
       "      <th></th>\n",
       "      <th></th>\n",
       "    </tr>\n",
       "  </thead>\n",
       "  <tbody>\n",
       "    <tr>\n",
       "      <th>2020-12-31</th>\n",
       "      <td>217.822</td>\n",
       "      <td>219.104</td>\n",
       "      <td>215.838</td>\n",
       "      <td>218.528</td>\n",
       "      <td>2.131555e+07</td>\n",
       "    </tr>\n",
       "    <tr>\n",
       "      <th>2020-12-30</th>\n",
       "      <td>221.277</td>\n",
       "      <td>221.674</td>\n",
       "      <td>217.595</td>\n",
       "      <td>217.802</td>\n",
       "      <td>2.063381e+07</td>\n",
       "    </tr>\n",
       "    <tr>\n",
       "      <th>2020-12-29</th>\n",
       "      <td>222.350</td>\n",
       "      <td>223.214</td>\n",
       "      <td>219.659</td>\n",
       "      <td>220.205</td>\n",
       "      <td>1.771353e+07</td>\n",
       "    </tr>\n",
       "  </tbody>\n",
       "</table>\n",
       "</div>"
      ],
      "text/plain": [
       "               Open     High      Low    Close        Volume\n",
       "Date                                                        \n",
       "2020-12-31  217.822  219.104  215.838  218.528  2.131555e+07\n",
       "2020-12-30  221.277  221.674  217.595  217.802  2.063381e+07\n",
       "2020-12-29  222.350  223.214  219.659  220.205  1.771353e+07"
      ]
     },
     "execution_count": 88,
     "metadata": {},
     "output_type": "execute_result"
    }
   ],
   "source": [
    "stocks = data.DataReader(name =\"MSFT\", data_source =\"stooq\", start = \"2010-01-01\", end = \"2020-12-31\")\n",
    "stocks.head(3)"
   ]
  },
  {
   "cell_type": "code",
   "execution_count": 89,
   "id": "3604077b",
   "metadata": {},
   "outputs": [
    {
     "data": {
      "text/plain": [
       "Timedelta('11 days 00:00:00')"
      ]
     },
     "execution_count": 89,
     "metadata": {},
     "output_type": "execute_result"
    }
   ],
   "source": [
    "time_a = pd.Timestamp(\"2020-03-31\")\n",
    "time_b = pd.Timestamp(\"2020-03-20\")\n",
    "time_a - time_b"
   ]
  },
  {
   "cell_type": "code",
   "execution_count": 90,
   "id": "1645ca49",
   "metadata": {},
   "outputs": [
    {
     "data": {
      "text/plain": [
       "Timedelta('-11 days +00:00:00')"
      ]
     },
     "execution_count": 90,
     "metadata": {},
     "output_type": "execute_result"
    }
   ],
   "source": [
    "time_b - time_a"
   ]
  },
  {
   "cell_type": "code",
   "execution_count": 91,
   "id": "0fc838f0",
   "metadata": {},
   "outputs": [
    {
     "data": {
      "text/plain": [
       "Timedelta('3 days 00:00:00')"
      ]
     },
     "execution_count": 91,
     "metadata": {},
     "output_type": "execute_result"
    }
   ],
   "source": [
    "pd.Timedelta(days = 3)"
   ]
  },
  {
   "cell_type": "code",
   "execution_count": 95,
   "id": "9b88ed5e",
   "metadata": {},
   "outputs": [
    {
     "data": {
      "text/plain": [
       "Timedelta('3 days 00:45:00')"
      ]
     },
     "execution_count": 95,
     "metadata": {},
     "output_type": "execute_result"
    }
   ],
   "source": [
    "pd.Timedelta(days = 3, minutes = 45)"
   ]
  },
  {
   "cell_type": "code",
   "execution_count": 93,
   "id": "83f13178",
   "metadata": {},
   "outputs": [
    {
     "data": {
      "text/plain": [
       "Timedelta('3 days 00:45:45')"
      ]
     },
     "execution_count": 93,
     "metadata": {},
     "output_type": "execute_result"
    }
   ],
   "source": [
    "pd.Timedelta(days = 3, minutes = 45, seconds = 45)"
   ]
  },
  {
   "cell_type": "code",
   "execution_count": 94,
   "id": "cc88e1da",
   "metadata": {},
   "outputs": [
    {
     "data": {
      "text/plain": [
       "Timedelta('59 days 05:45:45')"
      ]
     },
     "execution_count": 94,
     "metadata": {},
     "output_type": "execute_result"
    }
   ],
   "source": [
    "pd.Timedelta(weeks = 8, days = 3, hours = 5, minutes = 45, seconds = 45)"
   ]
  },
  {
   "cell_type": "code",
   "execution_count": 96,
   "id": "4f9c6b39",
   "metadata": {},
   "outputs": [
    {
     "data": {
      "text/plain": [
       "Timedelta('0 days 00:05:00')"
      ]
     },
     "execution_count": 96,
     "metadata": {},
     "output_type": "execute_result"
    }
   ],
   "source": [
    "pd.Timedelta(\"5 minutes\")"
   ]
  },
  {
   "cell_type": "code",
   "execution_count": 97,
   "id": "0ead6bcc",
   "metadata": {},
   "outputs": [
    {
     "data": {
      "text/plain": [
       "Timedelta('0 days 06:05:00')"
      ]
     },
     "execution_count": 97,
     "metadata": {},
     "output_type": "execute_result"
    }
   ],
   "source": [
    "pd.Timedelta(\"6 hours 5 minutes\")"
   ]
  },
  {
   "cell_type": "code",
   "execution_count": 98,
   "id": "e7212b2f",
   "metadata": {},
   "outputs": [
    {
     "data": {
      "text/plain": [
       "Timedelta('14 days 06:05:32')"
      ]
     },
     "execution_count": 98,
     "metadata": {},
     "output_type": "execute_result"
    }
   ],
   "source": [
    "pd.Timedelta(\"14 days 6 hours 5 minutes 32 seconds\")"
   ]
  },
  {
   "cell_type": "markdown",
   "id": "5a3f2947",
   "metadata": {},
   "source": [
    "# Timedeltas in a Dataset"
   ]
  },
  {
   "cell_type": "code",
   "execution_count": 99,
   "id": "6a87c62d",
   "metadata": {},
   "outputs": [],
   "source": [
    "import pandas as pd\n",
    "import datetime as dt\n",
    "from pandas_datareader import data"
   ]
  },
  {
   "cell_type": "code",
   "execution_count": 100,
   "id": "dbcecb4e",
   "metadata": {},
   "outputs": [
    {
     "data": {
      "text/html": [
       "<div>\n",
       "<style scoped>\n",
       "    .dataframe tbody tr th:only-of-type {\n",
       "        vertical-align: middle;\n",
       "    }\n",
       "\n",
       "    .dataframe tbody tr th {\n",
       "        vertical-align: top;\n",
       "    }\n",
       "\n",
       "    .dataframe thead th {\n",
       "        text-align: right;\n",
       "    }\n",
       "</style>\n",
       "<table border=\"1\" class=\"dataframe\">\n",
       "  <thead>\n",
       "    <tr style=\"text-align: right;\">\n",
       "      <th></th>\n",
       "      <th>Open</th>\n",
       "      <th>High</th>\n",
       "      <th>Low</th>\n",
       "      <th>Close</th>\n",
       "      <th>Volume</th>\n",
       "    </tr>\n",
       "    <tr>\n",
       "      <th>Date</th>\n",
       "      <th></th>\n",
       "      <th></th>\n",
       "      <th></th>\n",
       "      <th></th>\n",
       "      <th></th>\n",
       "    </tr>\n",
       "  </thead>\n",
       "  <tbody>\n",
       "    <tr>\n",
       "      <th>2020-12-31</th>\n",
       "      <td>217.822</td>\n",
       "      <td>219.104</td>\n",
       "      <td>215.838</td>\n",
       "      <td>218.528</td>\n",
       "      <td>2.131555e+07</td>\n",
       "    </tr>\n",
       "    <tr>\n",
       "      <th>2020-12-30</th>\n",
       "      <td>221.277</td>\n",
       "      <td>221.674</td>\n",
       "      <td>217.595</td>\n",
       "      <td>217.802</td>\n",
       "      <td>2.063381e+07</td>\n",
       "    </tr>\n",
       "    <tr>\n",
       "      <th>2020-12-29</th>\n",
       "      <td>222.350</td>\n",
       "      <td>223.214</td>\n",
       "      <td>219.659</td>\n",
       "      <td>220.205</td>\n",
       "      <td>1.771353e+07</td>\n",
       "    </tr>\n",
       "  </tbody>\n",
       "</table>\n",
       "</div>"
      ],
      "text/plain": [
       "               Open     High      Low    Close        Volume\n",
       "Date                                                        \n",
       "2020-12-31  217.822  219.104  215.838  218.528  2.131555e+07\n",
       "2020-12-30  221.277  221.674  217.595  217.802  2.063381e+07\n",
       "2020-12-29  222.350  223.214  219.659  220.205  1.771353e+07"
      ]
     },
     "execution_count": 100,
     "metadata": {},
     "output_type": "execute_result"
    }
   ],
   "source": [
    "stocks = data.DataReader(name =\"MSFT\", data_source =\"stooq\", start = \"2010-01-01\", end = \"2020-12-31\")\n",
    "stocks.head(3)"
   ]
  },
  {
   "cell_type": "code",
   "execution_count": 105,
   "id": "ec734d6b",
   "metadata": {},
   "outputs": [
    {
     "data": {
      "text/html": [
       "<div>\n",
       "<style scoped>\n",
       "    .dataframe tbody tr th:only-of-type {\n",
       "        vertical-align: middle;\n",
       "    }\n",
       "\n",
       "    .dataframe tbody tr th {\n",
       "        vertical-align: top;\n",
       "    }\n",
       "\n",
       "    .dataframe thead th {\n",
       "        text-align: right;\n",
       "    }\n",
       "</style>\n",
       "<table border=\"1\" class=\"dataframe\">\n",
       "  <thead>\n",
       "    <tr style=\"text-align: right;\">\n",
       "      <th></th>\n",
       "      <th>order_date</th>\n",
       "      <th>delivery_date</th>\n",
       "    </tr>\n",
       "    <tr>\n",
       "      <th>ID</th>\n",
       "      <th></th>\n",
       "      <th></th>\n",
       "    </tr>\n",
       "  </thead>\n",
       "  <tbody>\n",
       "    <tr>\n",
       "      <th>1</th>\n",
       "      <td>1998-05-24</td>\n",
       "      <td>1999-02-05</td>\n",
       "    </tr>\n",
       "    <tr>\n",
       "      <th>2</th>\n",
       "      <td>1992-04-22</td>\n",
       "      <td>1998-03-06</td>\n",
       "    </tr>\n",
       "    <tr>\n",
       "      <th>4</th>\n",
       "      <td>1991-02-10</td>\n",
       "      <td>1992-08-26</td>\n",
       "    </tr>\n",
       "  </tbody>\n",
       "</table>\n",
       "</div>"
      ],
      "text/plain": [
       "   order_date delivery_date\n",
       "ID                         \n",
       "1  1998-05-24    1999-02-05\n",
       "2  1992-04-22    1998-03-06\n",
       "4  1991-02-10    1992-08-26"
      ]
     },
     "execution_count": 105,
     "metadata": {},
     "output_type": "execute_result"
    }
   ],
   "source": [
    "shipping = pd.read_csv(\"C:\\\\Users\\\\Carlos.Villarreal\\\\Documents\\\\Python Pandas Course\\\\data\\\\ecommerce.csv\", index_col = \"ID\", parse_dates = [\"order_date\", \"delivery_date\"])\n",
    "shipping.head(3)"
   ]
  },
  {
   "cell_type": "code",
   "execution_count": 106,
   "id": "7f7303d9",
   "metadata": {},
   "outputs": [
    {
     "data": {
      "text/plain": [
       "ID\n",
       "1      257 days\n",
       "2     2144 days\n",
       "4      563 days\n",
       "5     1948 days\n",
       "7     1742 days\n",
       "         ...   \n",
       "990   1684 days\n",
       "991   2394 days\n",
       "993   2719 days\n",
       "994     10 days\n",
       "997    637 days\n",
       "Length: 501, dtype: timedelta64[ns]"
      ]
     },
     "execution_count": 106,
     "metadata": {},
     "output_type": "execute_result"
    }
   ],
   "source": [
    "shipping[\"delivery_date\"] - shipping[\"order_date\"]"
   ]
  },
  {
   "cell_type": "code",
   "execution_count": 109,
   "id": "db41ec6c",
   "metadata": {},
   "outputs": [
    {
     "data": {
      "text/html": [
       "<div>\n",
       "<style scoped>\n",
       "    .dataframe tbody tr th:only-of-type {\n",
       "        vertical-align: middle;\n",
       "    }\n",
       "\n",
       "    .dataframe tbody tr th {\n",
       "        vertical-align: top;\n",
       "    }\n",
       "\n",
       "    .dataframe thead th {\n",
       "        text-align: right;\n",
       "    }\n",
       "</style>\n",
       "<table border=\"1\" class=\"dataframe\">\n",
       "  <thead>\n",
       "    <tr style=\"text-align: right;\">\n",
       "      <th></th>\n",
       "      <th>order_date</th>\n",
       "      <th>delivery_date</th>\n",
       "      <th>Delivery Time</th>\n",
       "    </tr>\n",
       "    <tr>\n",
       "      <th>ID</th>\n",
       "      <th></th>\n",
       "      <th></th>\n",
       "      <th></th>\n",
       "    </tr>\n",
       "  </thead>\n",
       "  <tbody>\n",
       "    <tr>\n",
       "      <th>1</th>\n",
       "      <td>1998-05-24</td>\n",
       "      <td>1999-02-05</td>\n",
       "      <td>257 days</td>\n",
       "    </tr>\n",
       "    <tr>\n",
       "      <th>2</th>\n",
       "      <td>1992-04-22</td>\n",
       "      <td>1998-03-06</td>\n",
       "      <td>2144 days</td>\n",
       "    </tr>\n",
       "    <tr>\n",
       "      <th>4</th>\n",
       "      <td>1991-02-10</td>\n",
       "      <td>1992-08-26</td>\n",
       "      <td>563 days</td>\n",
       "    </tr>\n",
       "  </tbody>\n",
       "</table>\n",
       "</div>"
      ],
      "text/plain": [
       "   order_date delivery_date Delivery Time\n",
       "ID                                       \n",
       "1  1998-05-24    1999-02-05      257 days\n",
       "2  1992-04-22    1998-03-06     2144 days\n",
       "4  1991-02-10    1992-08-26      563 days"
      ]
     },
     "execution_count": 109,
     "metadata": {},
     "output_type": "execute_result"
    }
   ],
   "source": [
    "shipping[\"Delivery Time\"] = shipping[\"delivery_date\"] - shipping[\"order_date\"]\n",
    "shipping.head(3)"
   ]
  },
  {
   "cell_type": "code",
   "execution_count": 110,
   "id": "db24b420",
   "metadata": {},
   "outputs": [
    {
     "data": {
      "text/plain": [
       "ID\n",
       "1     1999-10-20\n",
       "2     2004-01-18\n",
       "4     1994-03-12\n",
       "5     2003-03-22\n",
       "7     2003-03-18\n",
       "         ...    \n",
       "990   2000-09-12\n",
       "991   2004-10-18\n",
       "993   2005-10-06\n",
       "994   1993-06-23\n",
       "997   1993-07-01\n",
       "Length: 501, dtype: datetime64[ns]"
      ]
     },
     "execution_count": 110,
     "metadata": {},
     "output_type": "execute_result"
    }
   ],
   "source": [
    "shipping[\"delivery_date\"] + shipping[\"Delivery Time\"]"
   ]
  },
  {
   "cell_type": "code",
   "execution_count": 111,
   "id": "ab47b16e",
   "metadata": {},
   "outputs": [
    {
     "data": {
      "text/html": [
       "<div>\n",
       "<style scoped>\n",
       "    .dataframe tbody tr th:only-of-type {\n",
       "        vertical-align: middle;\n",
       "    }\n",
       "\n",
       "    .dataframe tbody tr th {\n",
       "        vertical-align: top;\n",
       "    }\n",
       "\n",
       "    .dataframe thead th {\n",
       "        text-align: right;\n",
       "    }\n",
       "</style>\n",
       "<table border=\"1\" class=\"dataframe\">\n",
       "  <thead>\n",
       "    <tr style=\"text-align: right;\">\n",
       "      <th></th>\n",
       "      <th>order_date</th>\n",
       "      <th>delivery_date</th>\n",
       "      <th>Delivery Time</th>\n",
       "      <th>Twice As Long</th>\n",
       "    </tr>\n",
       "    <tr>\n",
       "      <th>ID</th>\n",
       "      <th></th>\n",
       "      <th></th>\n",
       "      <th></th>\n",
       "      <th></th>\n",
       "    </tr>\n",
       "  </thead>\n",
       "  <tbody>\n",
       "    <tr>\n",
       "      <th>1</th>\n",
       "      <td>1998-05-24</td>\n",
       "      <td>1999-02-05</td>\n",
       "      <td>257 days</td>\n",
       "      <td>1999-10-20</td>\n",
       "    </tr>\n",
       "    <tr>\n",
       "      <th>2</th>\n",
       "      <td>1992-04-22</td>\n",
       "      <td>1998-03-06</td>\n",
       "      <td>2144 days</td>\n",
       "      <td>2004-01-18</td>\n",
       "    </tr>\n",
       "    <tr>\n",
       "      <th>4</th>\n",
       "      <td>1991-02-10</td>\n",
       "      <td>1992-08-26</td>\n",
       "      <td>563 days</td>\n",
       "      <td>1994-03-12</td>\n",
       "    </tr>\n",
       "  </tbody>\n",
       "</table>\n",
       "</div>"
      ],
      "text/plain": [
       "   order_date delivery_date Delivery Time Twice As Long\n",
       "ID                                                     \n",
       "1  1998-05-24    1999-02-05      257 days    1999-10-20\n",
       "2  1992-04-22    1998-03-06     2144 days    2004-01-18\n",
       "4  1991-02-10    1992-08-26      563 days    1994-03-12"
      ]
     },
     "execution_count": 111,
     "metadata": {},
     "output_type": "execute_result"
    }
   ],
   "source": [
    "shipping[\"Twice As Long\"] = shipping[\"delivery_date\"] + shipping[\"Delivery Time\"]\n",
    "shipping.head(3)"
   ]
  },
  {
   "cell_type": "code",
   "execution_count": 112,
   "id": "d3ef24d0",
   "metadata": {},
   "outputs": [
    {
     "data": {
      "text/plain": [
       "order_date        datetime64[ns]\n",
       "delivery_date     datetime64[ns]\n",
       "Delivery Time    timedelta64[ns]\n",
       "Twice As Long     datetime64[ns]\n",
       "dtype: object"
      ]
     },
     "execution_count": 112,
     "metadata": {},
     "output_type": "execute_result"
    }
   ],
   "source": [
    "shipping.dtypes"
   ]
  },
  {
   "cell_type": "code",
   "execution_count": 113,
   "id": "ce408517",
   "metadata": {},
   "outputs": [
    {
     "data": {
      "text/plain": [
       "ID\n",
       "1      False\n",
       "2       True\n",
       "4       True\n",
       "5       True\n",
       "7       True\n",
       "       ...  \n",
       "990     True\n",
       "991     True\n",
       "993     True\n",
       "994    False\n",
       "997     True\n",
       "Name: Delivery Time, Length: 501, dtype: bool"
      ]
     },
     "execution_count": 113,
     "metadata": {},
     "output_type": "execute_result"
    }
   ],
   "source": [
    "shipping[\"Delivery Time\"] > \"365 days\""
   ]
  },
  {
   "cell_type": "code",
   "execution_count": 114,
   "id": "50f8a1b3",
   "metadata": {},
   "outputs": [
    {
     "data": {
      "text/html": [
       "<div>\n",
       "<style scoped>\n",
       "    .dataframe tbody tr th:only-of-type {\n",
       "        vertical-align: middle;\n",
       "    }\n",
       "\n",
       "    .dataframe tbody tr th {\n",
       "        vertical-align: top;\n",
       "    }\n",
       "\n",
       "    .dataframe thead th {\n",
       "        text-align: right;\n",
       "    }\n",
       "</style>\n",
       "<table border=\"1\" class=\"dataframe\">\n",
       "  <thead>\n",
       "    <tr style=\"text-align: right;\">\n",
       "      <th></th>\n",
       "      <th>order_date</th>\n",
       "      <th>delivery_date</th>\n",
       "      <th>Delivery Time</th>\n",
       "      <th>Twice As Long</th>\n",
       "    </tr>\n",
       "    <tr>\n",
       "      <th>ID</th>\n",
       "      <th></th>\n",
       "      <th></th>\n",
       "      <th></th>\n",
       "      <th></th>\n",
       "    </tr>\n",
       "  </thead>\n",
       "  <tbody>\n",
       "    <tr>\n",
       "      <th>2</th>\n",
       "      <td>1992-04-22</td>\n",
       "      <td>1998-03-06</td>\n",
       "      <td>2144 days</td>\n",
       "      <td>2004-01-18</td>\n",
       "    </tr>\n",
       "    <tr>\n",
       "      <th>4</th>\n",
       "      <td>1991-02-10</td>\n",
       "      <td>1992-08-26</td>\n",
       "      <td>563 days</td>\n",
       "      <td>1994-03-12</td>\n",
       "    </tr>\n",
       "    <tr>\n",
       "      <th>5</th>\n",
       "      <td>1992-07-21</td>\n",
       "      <td>1997-11-20</td>\n",
       "      <td>1948 days</td>\n",
       "      <td>2003-03-22</td>\n",
       "    </tr>\n",
       "    <tr>\n",
       "      <th>7</th>\n",
       "      <td>1993-09-02</td>\n",
       "      <td>1998-06-10</td>\n",
       "      <td>1742 days</td>\n",
       "      <td>2003-03-18</td>\n",
       "    </tr>\n",
       "    <tr>\n",
       "      <th>9</th>\n",
       "      <td>1990-01-25</td>\n",
       "      <td>1994-10-02</td>\n",
       "      <td>1711 days</td>\n",
       "      <td>1999-06-09</td>\n",
       "    </tr>\n",
       "    <tr>\n",
       "      <th>...</th>\n",
       "      <td>...</td>\n",
       "      <td>...</td>\n",
       "      <td>...</td>\n",
       "      <td>...</td>\n",
       "    </tr>\n",
       "    <tr>\n",
       "      <th>986</th>\n",
       "      <td>1990-12-10</td>\n",
       "      <td>1992-12-16</td>\n",
       "      <td>737 days</td>\n",
       "      <td>1994-12-23</td>\n",
       "    </tr>\n",
       "    <tr>\n",
       "      <th>990</th>\n",
       "      <td>1991-06-24</td>\n",
       "      <td>1996-02-02</td>\n",
       "      <td>1684 days</td>\n",
       "      <td>2000-09-12</td>\n",
       "    </tr>\n",
       "    <tr>\n",
       "      <th>991</th>\n",
       "      <td>1991-09-09</td>\n",
       "      <td>1998-03-30</td>\n",
       "      <td>2394 days</td>\n",
       "      <td>2004-10-18</td>\n",
       "    </tr>\n",
       "    <tr>\n",
       "      <th>993</th>\n",
       "      <td>1990-11-16</td>\n",
       "      <td>1998-04-27</td>\n",
       "      <td>2719 days</td>\n",
       "      <td>2005-10-06</td>\n",
       "    </tr>\n",
       "    <tr>\n",
       "      <th>997</th>\n",
       "      <td>1990-01-04</td>\n",
       "      <td>1991-10-03</td>\n",
       "      <td>637 days</td>\n",
       "      <td>1993-07-01</td>\n",
       "    </tr>\n",
       "  </tbody>\n",
       "</table>\n",
       "<p>394 rows × 4 columns</p>\n",
       "</div>"
      ],
      "text/plain": [
       "    order_date delivery_date Delivery Time Twice As Long\n",
       "ID                                                      \n",
       "2   1992-04-22    1998-03-06     2144 days    2004-01-18\n",
       "4   1991-02-10    1992-08-26      563 days    1994-03-12\n",
       "5   1992-07-21    1997-11-20     1948 days    2003-03-22\n",
       "7   1993-09-02    1998-06-10     1742 days    2003-03-18\n",
       "9   1990-01-25    1994-10-02     1711 days    1999-06-09\n",
       "..         ...           ...           ...           ...\n",
       "986 1990-12-10    1992-12-16      737 days    1994-12-23\n",
       "990 1991-06-24    1996-02-02     1684 days    2000-09-12\n",
       "991 1991-09-09    1998-03-30     2394 days    2004-10-18\n",
       "993 1990-11-16    1998-04-27     2719 days    2005-10-06\n",
       "997 1990-01-04    1991-10-03      637 days    1993-07-01\n",
       "\n",
       "[394 rows x 4 columns]"
      ]
     },
     "execution_count": 114,
     "metadata": {},
     "output_type": "execute_result"
    }
   ],
   "source": [
    "mask = shipping[\"Delivery Time\"] > \"365 days\"\n",
    "shipping[mask]"
   ]
  },
  {
   "cell_type": "code",
   "execution_count": 115,
   "id": "307b3e25",
   "metadata": {},
   "outputs": [
    {
     "data": {
      "text/html": [
       "<div>\n",
       "<style scoped>\n",
       "    .dataframe tbody tr th:only-of-type {\n",
       "        vertical-align: middle;\n",
       "    }\n",
       "\n",
       "    .dataframe tbody tr th {\n",
       "        vertical-align: top;\n",
       "    }\n",
       "\n",
       "    .dataframe thead th {\n",
       "        text-align: right;\n",
       "    }\n",
       "</style>\n",
       "<table border=\"1\" class=\"dataframe\">\n",
       "  <thead>\n",
       "    <tr style=\"text-align: right;\">\n",
       "      <th></th>\n",
       "      <th>order_date</th>\n",
       "      <th>delivery_date</th>\n",
       "      <th>Delivery Time</th>\n",
       "      <th>Twice As Long</th>\n",
       "    </tr>\n",
       "    <tr>\n",
       "      <th>ID</th>\n",
       "      <th></th>\n",
       "      <th></th>\n",
       "      <th></th>\n",
       "      <th></th>\n",
       "    </tr>\n",
       "  </thead>\n",
       "  <tbody>\n",
       "    <tr>\n",
       "      <th>130</th>\n",
       "      <td>1990-04-02</td>\n",
       "      <td>1999-08-16</td>\n",
       "      <td>3423 days</td>\n",
       "      <td>2008-12-29</td>\n",
       "    </tr>\n",
       "  </tbody>\n",
       "</table>\n",
       "</div>"
      ],
      "text/plain": [
       "    order_date delivery_date Delivery Time Twice As Long\n",
       "ID                                                      \n",
       "130 1990-04-02    1999-08-16     3423 days    2008-12-29"
      ]
     },
     "execution_count": 115,
     "metadata": {},
     "output_type": "execute_result"
    }
   ],
   "source": [
    "mask = shipping[\"Delivery Time\"]== \"3423 days\"\n",
    "shipping[mask]"
   ]
  },
  {
   "cell_type": "code",
   "execution_count": 116,
   "id": "b58081cb",
   "metadata": {},
   "outputs": [
    {
     "data": {
      "text/plain": [
       "Timedelta('8 days 00:00:00')"
      ]
     },
     "execution_count": 116,
     "metadata": {},
     "output_type": "execute_result"
    }
   ],
   "source": [
    "shipping[\"Delivery Time\"].min()"
   ]
  },
  {
   "cell_type": "code",
   "execution_count": 117,
   "id": "85c0cd54",
   "metadata": {},
   "outputs": [
    {
     "data": {
      "text/plain": [
       "Timedelta('3583 days 00:00:00')"
      ]
     },
     "execution_count": 117,
     "metadata": {},
     "output_type": "execute_result"
    }
   ],
   "source": [
    "shipping[\"Delivery Time\"].max()"
   ]
  },
  {
   "cell_type": "code",
   "execution_count": null,
   "id": "e6e9e4c3",
   "metadata": {},
   "outputs": [],
   "source": []
  },
  {
   "cell_type": "code",
   "execution_count": null,
   "id": "891b6ded",
   "metadata": {},
   "outputs": [],
   "source": []
  },
  {
   "cell_type": "code",
   "execution_count": null,
   "id": "28547eff",
   "metadata": {},
   "outputs": [],
   "source": []
  },
  {
   "cell_type": "code",
   "execution_count": null,
   "id": "5095e96e",
   "metadata": {},
   "outputs": [],
   "source": []
  },
  {
   "cell_type": "code",
   "execution_count": null,
   "id": "90de3783",
   "metadata": {},
   "outputs": [],
   "source": []
  },
  {
   "cell_type": "code",
   "execution_count": null,
   "id": "6cc8364d",
   "metadata": {},
   "outputs": [],
   "source": []
  },
  {
   "cell_type": "code",
   "execution_count": null,
   "id": "20909f94",
   "metadata": {},
   "outputs": [],
   "source": []
  },
  {
   "cell_type": "code",
   "execution_count": null,
   "id": "e7e8cf46",
   "metadata": {},
   "outputs": [],
   "source": []
  },
  {
   "cell_type": "code",
   "execution_count": null,
   "id": "18b2062d",
   "metadata": {},
   "outputs": [],
   "source": []
  },
  {
   "cell_type": "code",
   "execution_count": null,
   "id": "d5d54908",
   "metadata": {},
   "outputs": [],
   "source": []
  },
  {
   "cell_type": "code",
   "execution_count": null,
   "id": "d1513036",
   "metadata": {},
   "outputs": [],
   "source": []
  },
  {
   "cell_type": "code",
   "execution_count": null,
   "id": "8ad2cc93",
   "metadata": {},
   "outputs": [],
   "source": []
  },
  {
   "cell_type": "code",
   "execution_count": null,
   "id": "7ff2e7bb",
   "metadata": {},
   "outputs": [],
   "source": []
  },
  {
   "cell_type": "code",
   "execution_count": null,
   "id": "afb3a68f",
   "metadata": {},
   "outputs": [],
   "source": []
  },
  {
   "cell_type": "code",
   "execution_count": null,
   "id": "5bd124e0",
   "metadata": {},
   "outputs": [],
   "source": []
  },
  {
   "cell_type": "code",
   "execution_count": null,
   "id": "f84d30e0",
   "metadata": {},
   "outputs": [],
   "source": []
  },
  {
   "cell_type": "code",
   "execution_count": null,
   "id": "a562b639",
   "metadata": {},
   "outputs": [],
   "source": []
  },
  {
   "cell_type": "code",
   "execution_count": null,
   "id": "6faabff8",
   "metadata": {},
   "outputs": [],
   "source": []
  },
  {
   "cell_type": "code",
   "execution_count": null,
   "id": "557e73fe",
   "metadata": {},
   "outputs": [],
   "source": []
  },
  {
   "cell_type": "code",
   "execution_count": null,
   "id": "ba69ce17",
   "metadata": {},
   "outputs": [],
   "source": []
  },
  {
   "cell_type": "code",
   "execution_count": null,
   "id": "232912b1",
   "metadata": {},
   "outputs": [],
   "source": []
  },
  {
   "cell_type": "code",
   "execution_count": null,
   "id": "5e5268b8",
   "metadata": {},
   "outputs": [],
   "source": []
  },
  {
   "cell_type": "code",
   "execution_count": null,
   "id": "dd274cb0",
   "metadata": {},
   "outputs": [],
   "source": []
  },
  {
   "cell_type": "code",
   "execution_count": null,
   "id": "53251be2",
   "metadata": {},
   "outputs": [],
   "source": []
  },
  {
   "cell_type": "code",
   "execution_count": null,
   "id": "f7f9bb7d",
   "metadata": {},
   "outputs": [],
   "source": []
  },
  {
   "cell_type": "code",
   "execution_count": null,
   "id": "8b2942eb",
   "metadata": {},
   "outputs": [],
   "source": []
  }
 ],
 "metadata": {
  "kernelspec": {
   "display_name": "Python 3 (ipykernel)",
   "language": "python",
   "name": "python3"
  },
  "language_info": {
   "codemirror_mode": {
    "name": "ipython",
    "version": 3
   },
   "file_extension": ".py",
   "mimetype": "text/x-python",
   "name": "python",
   "nbconvert_exporter": "python",
   "pygments_lexer": "ipython3",
   "version": "3.11.4"
  }
 },
 "nbformat": 4,
 "nbformat_minor": 5
}
