{
 "cells": [
  {
   "cell_type": "code",
   "execution_count": 1,
   "id": "787d0812",
   "metadata": {},
   "outputs": [],
   "source": [
    "#Mutable data structure that holds an ordered collection of elements"
   ]
  },
  {
   "cell_type": "code",
   "execution_count": 2,
   "id": "0f76ff0a",
   "metadata": {},
   "outputs": [
    {
     "data": {
      "text/plain": [
       "[1, 2, 3, 4]"
      ]
     },
     "execution_count": 2,
     "metadata": {},
     "output_type": "execute_result"
    }
   ],
   "source": [
    "[1, 2, 3, 4]"
   ]
  },
  {
   "cell_type": "code",
   "execution_count": 3,
   "id": "c3800fcb",
   "metadata": {},
   "outputs": [
    {
     "data": {
      "text/plain": [
       "[True, False, False, True]"
      ]
     },
     "execution_count": 3,
     "metadata": {},
     "output_type": "execute_result"
    }
   ],
   "source": [
    "[True, False, False, True]"
   ]
  },
  {
   "cell_type": "code",
   "execution_count": 10,
   "id": "e5d43259",
   "metadata": {},
   "outputs": [],
   "source": [
    "party_attendees = ['Michael', 'Freddy', 'Jason']"
   ]
  },
  {
   "cell_type": "code",
   "execution_count": 11,
   "id": "d5c2333f",
   "metadata": {},
   "outputs": [
    {
     "data": {
      "text/plain": [
       "['Michael', 'Freddy', 'Jason']"
      ]
     },
     "execution_count": 11,
     "metadata": {},
     "output_type": "execute_result"
    }
   ],
   "source": [
    "party_attendees"
   ]
  },
  {
   "cell_type": "code",
   "execution_count": 12,
   "id": "14bce8d1",
   "metadata": {},
   "outputs": [
    {
     "data": {
      "text/plain": [
       "3"
      ]
     },
     "execution_count": 12,
     "metadata": {},
     "output_type": "execute_result"
    }
   ],
   "source": [
    "len(party_attendees)"
   ]
  },
  {
   "cell_type": "code",
   "execution_count": 13,
   "id": "d19fe016",
   "metadata": {},
   "outputs": [
    {
     "data": {
      "text/plain": [
       "list"
      ]
     },
     "execution_count": 13,
     "metadata": {},
     "output_type": "execute_result"
    }
   ],
   "source": [
    "type(party_attendees)"
   ]
  },
  {
   "cell_type": "code",
   "execution_count": 14,
   "id": "bb61eb97",
   "metadata": {},
   "outputs": [],
   "source": [
    "presidents = [\"Washington\", \"Jefferson\"]"
   ]
  },
  {
   "cell_type": "code",
   "execution_count": 15,
   "id": "8c9bfa82",
   "metadata": {},
   "outputs": [],
   "source": [
    "presidents.append(\"Madison\")"
   ]
  },
  {
   "cell_type": "code",
   "execution_count": 16,
   "id": "f49fd918",
   "metadata": {},
   "outputs": [
    {
     "data": {
      "text/plain": [
       "['Washington', 'Jefferson', 'Madison']"
      ]
     },
     "execution_count": 16,
     "metadata": {},
     "output_type": "execute_result"
    }
   ],
   "source": [
    "presidents"
   ]
  },
  {
   "cell_type": "code",
   "execution_count": 17,
   "id": "c627085c",
   "metadata": {},
   "outputs": [],
   "source": [
    "popcorn = [\"salted\", \"unsalted\", \"caramel\"]"
   ]
  },
  {
   "cell_type": "code",
   "execution_count": 18,
   "id": "ea02d209",
   "metadata": {},
   "outputs": [
    {
     "data": {
      "text/plain": [
       "['salted', 'unsalted', 'caramel']"
      ]
     },
     "execution_count": 18,
     "metadata": {},
     "output_type": "execute_result"
    }
   ],
   "source": [
    "popcorn"
   ]
  },
  {
   "cell_type": "code",
   "execution_count": 19,
   "id": "96b5d93c",
   "metadata": {},
   "outputs": [
    {
     "data": {
      "text/plain": [
       "'caramel'"
      ]
     },
     "execution_count": 19,
     "metadata": {},
     "output_type": "execute_result"
    }
   ],
   "source": [
    "popcorn.pop()"
   ]
  },
  {
   "cell_type": "code",
   "execution_count": 20,
   "id": "fcb91c85",
   "metadata": {},
   "outputs": [
    {
     "data": {
      "text/plain": [
       "['salted', 'unsalted']"
      ]
     },
     "execution_count": 20,
     "metadata": {},
     "output_type": "execute_result"
    }
   ],
   "source": [
    "popcorn"
   ]
  },
  {
   "cell_type": "code",
   "execution_count": 21,
   "id": "eb438521",
   "metadata": {},
   "outputs": [],
   "source": [
    "popcorn.remove(\"salted\")"
   ]
  },
  {
   "cell_type": "code",
   "execution_count": 22,
   "id": "d5ed82eb",
   "metadata": {},
   "outputs": [
    {
     "data": {
      "text/plain": [
       "['unsalted']"
      ]
     },
     "execution_count": 22,
     "metadata": {},
     "output_type": "execute_result"
    }
   ],
   "source": [
    "popcorn"
   ]
  },
  {
   "cell_type": "code",
   "execution_count": 23,
   "id": "635a24e8",
   "metadata": {},
   "outputs": [],
   "source": [
    "planets =[\"Mercury\", \"venus\", \"Earth\", \"Mars\"]"
   ]
  },
  {
   "cell_type": "code",
   "execution_count": 24,
   "id": "2cf9811d",
   "metadata": {},
   "outputs": [
    {
     "data": {
      "text/plain": [
       "True"
      ]
     },
     "execution_count": 24,
     "metadata": {},
     "output_type": "execute_result"
    }
   ],
   "source": [
    "\"Earth\" in planets"
   ]
  },
  {
   "cell_type": "code",
   "execution_count": 25,
   "id": "2e838c2b",
   "metadata": {},
   "outputs": [
    {
     "data": {
      "text/plain": [
       "False"
      ]
     },
     "execution_count": 25,
     "metadata": {},
     "output_type": "execute_result"
    }
   ],
   "source": [
    "\"earth\" in planets"
   ]
  },
  {
   "cell_type": "code",
   "execution_count": 26,
   "id": "b33c7184",
   "metadata": {},
   "outputs": [
    {
     "data": {
      "text/plain": [
       "True"
      ]
     },
     "execution_count": 26,
     "metadata": {},
     "output_type": "execute_result"
    }
   ],
   "source": [
    "\"Pluto\" not in planets"
   ]
  },
  {
   "cell_type": "code",
   "execution_count": 27,
   "id": "83acfbea",
   "metadata": {},
   "outputs": [
    {
     "data": {
      "text/plain": [
       "False"
      ]
     },
     "execution_count": 27,
     "metadata": {},
     "output_type": "execute_result"
    }
   ],
   "source": [
    "\"Mars\" not in planets"
   ]
  },
  {
   "cell_type": "code",
   "execution_count": 36,
   "id": "e5f10a38",
   "metadata": {},
   "outputs": [],
   "source": [
    "def is_long(list):\n",
    "    return len(list)>4"
   ]
  },
  {
   "cell_type": "code",
   "execution_count": 39,
   "id": "d4767b49",
   "metadata": {},
   "outputs": [],
   "source": [
    "list = [\"Carlos\", \"Maria\", \"Carlos\"]"
   ]
  },
  {
   "cell_type": "code",
   "execution_count": 40,
   "id": "7df6bfdf",
   "metadata": {},
   "outputs": [
    {
     "data": {
      "text/plain": [
       "False"
      ]
     },
     "execution_count": 40,
     "metadata": {},
     "output_type": "execute_result"
    }
   ],
   "source": [
    "is_long(list)"
   ]
  },
  {
   "cell_type": "code",
   "execution_count": 34,
   "id": "467e0501",
   "metadata": {},
   "outputs": [],
   "source": [
    "list = [\"Carlos\", \"Maria\", \"Carlos\", \"Pitiu\", \"Groot\"]"
   ]
  },
  {
   "cell_type": "code",
   "execution_count": 37,
   "id": "3a6463bd",
   "metadata": {},
   "outputs": [
    {
     "data": {
      "text/plain": [
       "True"
      ]
     },
     "execution_count": 37,
     "metadata": {},
     "output_type": "execute_result"
    }
   ],
   "source": [
    "is_long(list)"
   ]
  },
  {
   "cell_type": "code",
   "execution_count": null,
   "id": "fb44c994",
   "metadata": {},
   "outputs": [],
   "source": []
  }
 ],
 "metadata": {
  "kernelspec": {
   "display_name": "Python 3 (ipykernel)",
   "language": "python",
   "name": "python3"
  },
  "language_info": {
   "codemirror_mode": {
    "name": "ipython",
    "version": 3
   },
   "file_extension": ".py",
   "mimetype": "text/x-python",
   "name": "python",
   "nbconvert_exporter": "python",
   "pygments_lexer": "ipython3",
   "version": "3.11.4"
  }
 },
 "nbformat": 4,
 "nbformat_minor": 5
}
